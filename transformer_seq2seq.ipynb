{
 "cells": [
  {
   "cell_type": "code",
   "execution_count": null,
   "metadata": {},
   "outputs": [],
   "source": [
    "import tensorflow_datasets as tfds"
   ]
  },
  {
   "cell_type": "code",
   "execution_count": 2,
   "metadata": {},
   "outputs": [],
   "source": [
    "import tensorflow as tf"
   ]
  },
  {
   "cell_type": "code",
   "execution_count": 31,
   "metadata": {},
   "outputs": [],
   "source": [
    "import tensorflow_text as text"
   ]
  },
  {
   "cell_type": "code",
   "execution_count": 12,
   "metadata": {},
   "outputs": [],
   "source": [
    "examples, metadata = tfds.load('ted_hrlr_translate/pt_to_en', with_info=True, as_supervised=True)"
   ]
  },
  {
   "cell_type": "code",
   "execution_count": 13,
   "metadata": {},
   "outputs": [
    {
     "data": {
      "text/plain": [
       "(Translation({\n",
       "     'en': Text(shape=(), dtype=string),\n",
       "     'pt': Text(shape=(), dtype=string),\n",
       " }),\n",
       " {'train': <SplitInfo num_examples=51785, num_shards=1>,\n",
       "  'validation': <SplitInfo num_examples=1193, num_shards=1>,\n",
       "  'test': <SplitInfo num_examples=1803, num_shards=1>})"
      ]
     },
     "execution_count": 13,
     "metadata": {},
     "output_type": "execute_result"
    }
   ],
   "source": [
    "metadata.features, metadata.splits"
   ]
  },
  {
   "cell_type": "code",
   "execution_count": 21,
   "metadata": {},
   "outputs": [],
   "source": [
    "train_examples, val_examples, test_examples = examples['train'], examples['validation'], examples[\"test\"]"
   ]
  },
  {
   "cell_type": "code",
   "execution_count": 29,
   "metadata": {},
   "outputs": [
    {
     "name": "stdout",
     "output_type": "stream",
     "text": [
      "e quando melhoramos a procura , tiramos a única vantagem da impressão , que é a serendipidade . \n",
      " and when you improve searchability , you actually take away the one advantage of print , which is serendipity . \n",
      "\n",
      "mas e se estes fatores fossem ativos ? \n",
      " but what if it were active ? \n",
      "\n",
      "mas eles não tinham a curiosidade de me testar . \n",
      " but they did n't test for curiosity . \n",
      "\n",
      "e esta rebeldia consciente é a razão pela qual eu , como agnóstica , posso ainda ter fé . \n",
      " and this conscious defiance is why i , as an agnostic , can still have faith . \n",
      "\n"
     ]
    }
   ],
   "source": [
    "for pt_examples, en_examples in train_examples.batch(4).take(1):\n",
    "    for pt, en in zip(pt_examples.numpy(), en_examples.numpy()):\n",
    "        print(pt.decode(), \"\\n\", en.decode(), \"\\n\")"
   ]
  },
  {
   "cell_type": "code",
   "execution_count": null,
   "metadata": {},
   "outputs": [
    {
     "name": "stdout",
     "output_type": "stream",
     "text": [
      "Downloading data from https://storage.googleapis.com/download.tensorflow.org/models/ted_hrlr_translate_pt_en_converter.zip\n",
      "\u001b[1m184801/184801\u001b[0m \u001b[32m━━━━━━━━━━━━━━━━━━━━\u001b[0m\u001b[37m\u001b[0m \u001b[1m0s\u001b[0m 2us/step\n"
     ]
    },
    {
     "data": {
      "text/plain": [
       "'./ted_hrlr_translate_pt_en_converter_extracted'"
      ]
     },
     "execution_count": 18,
     "metadata": {},
     "output_type": "execute_result"
    }
   ],
   "source": [
    "tf.keras.utils.get_file(\n",
    "    'ted_hrlr_translate_pt_en_converter.zip',\n",
    "    'https://storage.googleapis.com/download.tensorflow.org/models/ted_hrlr_translate_pt_en_converter.zip',\n",
    "    cache_dir='.', cache_subdir='', extract=True\n",
    ")"
   ]
  },
  {
   "cell_type": "code",
   "execution_count": 19,
   "metadata": {},
   "outputs": [],
   "source": [
    "model_path = \"/home/fs/ML/Ipynbs/DL/ted_hrlr_translate_pt_en_converter_extracted/ted_hrlr_translate_pt_en_converter\""
   ]
  },
  {
   "cell_type": "code",
   "execution_count": 20,
   "metadata": {},
   "outputs": [],
   "source": [
    "tokenizers = tf.saved_model.load(model_path)"
   ]
  },
  {
   "cell_type": "code",
   "execution_count": 49,
   "metadata": {},
   "outputs": [
    {
     "name": "stdout",
     "output_type": "stream",
     "text": [
      "[   2   72  117   79 1259 1491 2362   13   79  150  184  311   71  103\n",
      " 2308   74 2679   13  148   80   55 4840 1434 2423  540   15    3] \n",
      " and when you improve searchability , you actually take away the one advantage of print , which is serendipity . \n",
      "\n",
      "[   2   87   90  107   76  129 1852   30    3] \n",
      " but what if it were active ? \n",
      "\n",
      "[   2   87   83  149   50    9   56  664   85 2512   15    3] \n",
      " but they did n ' t test for curiosity . \n",
      "\n"
     ]
    }
   ],
   "source": [
    "for _, en_examples in train_examples.batch(3).take(1):\n",
    "    encoded = tokenizers.en.tokenize(en_examples)\n",
    "    decoded = tokenizers.en.detokenize(encoded)\n",
    "\n",
    "    for enc, dec in zip(encoded.numpy(), decoded.numpy()):\n",
    "        print(enc, \"\\n\", dec.decode(), \"\\n\")"
   ]
  },
  {
   "cell_type": "code",
   "execution_count": null,
   "metadata": {},
   "outputs": [],
   "source": []
  }
 ],
 "metadata": {
  "kernelspec": {
   "display_name": "base",
   "language": "python",
   "name": "python3"
  },
  "language_info": {
   "codemirror_mode": {
    "name": "ipython",
    "version": 3
   },
   "file_extension": ".py",
   "mimetype": "text/x-python",
   "name": "python",
   "nbconvert_exporter": "python",
   "pygments_lexer": "ipython3",
   "version": "3.12.8"
  }
 },
 "nbformat": 4,
 "nbformat_minor": 2
}
