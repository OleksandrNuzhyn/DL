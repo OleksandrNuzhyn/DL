{
 "cells": [
  {
   "cell_type": "code",
   "execution_count": 1,
   "metadata": {},
   "outputs": [],
   "source": [
    "import zipfile"
   ]
  },
  {
   "cell_type": "code",
   "execution_count": 3,
   "metadata": {},
   "outputs": [],
   "source": [
    "import wget"
   ]
  },
  {
   "cell_type": "code",
   "execution_count": 4,
   "metadata": {},
   "outputs": [
    {
     "data": {
      "text/plain": [
       "'10_food_classes_10_percent.zip'"
      ]
     },
     "execution_count": 4,
     "metadata": {},
     "output_type": "execute_result"
    }
   ],
   "source": [
    "wget.download(\"https://storage.googleapis.com/ztm_tf_course/food_vision/10_food_classes_10_percent.zip\")"
   ]
  },
  {
   "cell_type": "code",
   "execution_count": 5,
   "metadata": {},
   "outputs": [],
   "source": [
    "zip_ref = zipfile.ZipFile(\"10_food_classes_10_percent.zip\")"
   ]
  },
  {
   "cell_type": "code",
   "execution_count": 7,
   "metadata": {},
   "outputs": [],
   "source": [
    "zip_ref.extractall()"
   ]
  },
  {
   "cell_type": "code",
   "execution_count": 8,
   "metadata": {},
   "outputs": [],
   "source": [
    "import os"
   ]
  },
  {
   "cell_type": "code",
   "execution_count": 9,
   "metadata": {},
   "outputs": [
    {
     "name": "stdout",
     "output_type": "stream",
     "text": [
      "There are 2 directories and 0 images in 10_food_classes_10_percent\n",
      "There are 10 directories and 0 images in 10_food_classes_10_percent/test\n",
      "There are 0 directories and 250 images in 10_food_classes_10_percent/test/grilled_salmon\n",
      "There are 0 directories and 250 images in 10_food_classes_10_percent/test/ice_cream\n",
      "There are 0 directories and 250 images in 10_food_classes_10_percent/test/steak\n",
      "There are 0 directories and 250 images in 10_food_classes_10_percent/test/ramen\n",
      "There are 0 directories and 250 images in 10_food_classes_10_percent/test/hamburger\n",
      "There are 0 directories and 250 images in 10_food_classes_10_percent/test/chicken_curry\n",
      "There are 0 directories and 250 images in 10_food_classes_10_percent/test/chicken_wings\n",
      "There are 0 directories and 250 images in 10_food_classes_10_percent/test/fried_rice\n",
      "There are 0 directories and 250 images in 10_food_classes_10_percent/test/pizza\n",
      "There are 0 directories and 250 images in 10_food_classes_10_percent/test/sushi\n",
      "There are 10 directories and 0 images in 10_food_classes_10_percent/train\n",
      "There are 0 directories and 75 images in 10_food_classes_10_percent/train/grilled_salmon\n",
      "There are 0 directories and 75 images in 10_food_classes_10_percent/train/ice_cream\n",
      "There are 0 directories and 75 images in 10_food_classes_10_percent/train/steak\n",
      "There are 0 directories and 75 images in 10_food_classes_10_percent/train/ramen\n",
      "There are 0 directories and 75 images in 10_food_classes_10_percent/train/hamburger\n",
      "There are 0 directories and 75 images in 10_food_classes_10_percent/train/chicken_curry\n",
      "There are 0 directories and 75 images in 10_food_classes_10_percent/train/chicken_wings\n",
      "There are 0 directories and 75 images in 10_food_classes_10_percent/train/fried_rice\n",
      "There are 0 directories and 75 images in 10_food_classes_10_percent/train/pizza\n",
      "There are 0 directories and 75 images in 10_food_classes_10_percent/train/sushi\n"
     ]
    }
   ],
   "source": [
    "for dirpath, dirnames, filenames in os.walk(\"10_food_classes_10_percent\"):\n",
    "    print(f\"There are {len(dirnames)} directories and {len(filenames)} images in {dirpath}\")"
   ]
  },
  {
   "cell_type": "code",
   "execution_count": 33,
   "metadata": {},
   "outputs": [],
   "source": [
    "import tf_keras"
   ]
  },
  {
   "cell_type": "code",
   "execution_count": 34,
   "metadata": {},
   "outputs": [],
   "source": [
    "from keras.src.legacy.preprocessing.image import ImageDataGenerator"
   ]
  },
  {
   "cell_type": "code",
   "execution_count": 35,
   "metadata": {},
   "outputs": [],
   "source": [
    "train_datagen = ImageDataGenerator(rescale=1./255)"
   ]
  },
  {
   "cell_type": "code",
   "execution_count": 36,
   "metadata": {},
   "outputs": [],
   "source": [
    "test_datagen = ImageDataGenerator(rescale=1./255)"
   ]
  },
  {
   "cell_type": "code",
   "execution_count": 37,
   "metadata": {},
   "outputs": [],
   "source": [
    "train_dir = \"10_food_classes_10_percent/train\"\n",
    "test_dir = \"10_food_classes_10_percent/test\""
   ]
  },
  {
   "cell_type": "code",
   "execution_count": 38,
   "metadata": {},
   "outputs": [
    {
     "name": "stdout",
     "output_type": "stream",
     "text": [
      "Found 750 images belonging to 10 classes.\n",
      "Found 2500 images belonging to 10 classes.\n"
     ]
    }
   ],
   "source": [
    "train_data = train_datagen.flow_from_directory(train_dir, target_size=(224, 224), batch_size=32, class_mode=\"categorical\")\n",
    "test_data = test_datagen.flow_from_directory(test_dir, target_size=(224, 224), batch_size=32, class_mode=\"categorical\")"
   ]
  },
  {
   "cell_type": "code",
   "execution_count": 39,
   "metadata": {},
   "outputs": [],
   "source": [
    "import datetime"
   ]
  },
  {
   "cell_type": "code",
   "execution_count": 40,
   "metadata": {},
   "outputs": [],
   "source": [
    "def create_tensorboard_callback(dir_name, experiment_name):\n",
    "    log_dir = dir_name + \"/\" + experiment_name + \"/\" + datetime.datetime.now().strftime(\"%Y-%m-%d-%H-%M-%S\")\n",
    "    tensorboard_callback = tf_keras.callbacks.TensorBoard(log_dir=log_dir)\n",
    "    return tensorboard_callback"
   ]
  },
  {
   "cell_type": "code",
   "execution_count": 41,
   "metadata": {},
   "outputs": [],
   "source": [
    "import tensorflow_hub as hub"
   ]
  },
  {
   "cell_type": "code",
   "execution_count": 58,
   "metadata": {},
   "outputs": [],
   "source": [
    "model = tf_keras.Sequential([\n",
    "    hub.KerasLayer(\"https://www.kaggle.com/models/tensorflow/efficientnet/TensorFlow2/b0-feature-vector/1\", trainable=False, input_shape=(224, 224, 3)),\n",
    "    tf_keras.layers.Dense(10, activation=\"softmax\")\n",
    "])"
   ]
  },
  {
   "cell_type": "code",
   "execution_count": 59,
   "metadata": {},
   "outputs": [],
   "source": [
    "model.compile(loss=\"categorical_crossentropy\", optimizer=tf_keras.optimizers.Adam(), metrics=[\"accuracy\"])"
   ]
  },
  {
   "cell_type": "code",
   "execution_count": 60,
   "metadata": {},
   "outputs": [
    {
     "name": "stdout",
     "output_type": "stream",
     "text": [
      "Model: \"sequential_8\"\n",
      "_________________________________________________________________\n",
      " Layer (type)                Output Shape              Param #   \n",
      "=================================================================\n",
      " keras_layer_8 (KerasLayer)  (None, 1280)              4049564   \n",
      "                                                                 \n",
      " dense_6 (Dense)             (None, 10)                12810     \n",
      "                                                                 \n",
      "=================================================================\n",
      "Total params: 4062374 (15.50 MB)\n",
      "Trainable params: 12810 (50.04 KB)\n",
      "Non-trainable params: 4049564 (15.45 MB)\n",
      "_________________________________________________________________\n"
     ]
    }
   ],
   "source": [
    "model.summary()"
   ]
  },
  {
   "cell_type": "code",
   "execution_count": 61,
   "metadata": {},
   "outputs": [],
   "source": [
    "tensorboard_callback = create_tensorboard_callback(\"tensorflow_hub\", \"EfficientNetB0\")"
   ]
  },
  {
   "cell_type": "code",
   "execution_count": 62,
   "metadata": {},
   "outputs": [
    {
     "name": "stdout",
     "output_type": "stream",
     "text": [
      "Epoch 1/10\n",
      "24/24 [==============================] - 13s 292ms/step - loss: 1.8652 - accuracy: 0.4133 - val_loss: 1.3075 - val_accuracy: 0.7344\n",
      "Epoch 2/10\n",
      "24/24 [==============================] - 6s 240ms/step - loss: 1.0721 - accuracy: 0.7840 - val_loss: 0.8807 - val_accuracy: 0.8144\n",
      "Epoch 3/10\n",
      "24/24 [==============================] - 5s 219ms/step - loss: 0.7487 - accuracy: 0.8467 - val_loss: 0.7036 - val_accuracy: 0.8416\n",
      "Epoch 4/10\n",
      "24/24 [==============================] - 5s 211ms/step - loss: 0.6115 - accuracy: 0.8600 - val_loss: 0.6174 - val_accuracy: 0.8568\n",
      "Epoch 5/10\n",
      "24/24 [==============================] - 6s 245ms/step - loss: 0.5141 - accuracy: 0.8907 - val_loss: 0.5535 - val_accuracy: 0.8732\n",
      "Epoch 6/10\n",
      "24/24 [==============================] - 5s 224ms/step - loss: 0.4431 - accuracy: 0.9000 - val_loss: 0.5303 - val_accuracy: 0.8672\n",
      "Epoch 7/10\n",
      "24/24 [==============================] - 5s 229ms/step - loss: 0.3996 - accuracy: 0.9160 - val_loss: 0.5007 - val_accuracy: 0.8648\n",
      "Epoch 8/10\n",
      "24/24 [==============================] - 5s 233ms/step - loss: 0.3386 - accuracy: 0.9360 - val_loss: 0.4688 - val_accuracy: 0.8744\n",
      "Epoch 9/10\n",
      "24/24 [==============================] - 5s 223ms/step - loss: 0.3132 - accuracy: 0.9520 - val_loss: 0.4671 - val_accuracy: 0.8788\n",
      "Epoch 10/10\n",
      "24/24 [==============================] - 6s 254ms/step - loss: 0.2814 - accuracy: 0.9573 - val_loss: 0.4388 - val_accuracy: 0.8828\n"
     ]
    }
   ],
   "source": [
    "history = model.fit(train_data, epochs=10, validation_data=test_data, callbacks=[tensorboard_callback], steps_per_epoch=len(train_data), validation_steps=len(test_data))"
   ]
  },
  {
   "cell_type": "code",
   "execution_count": 63,
   "metadata": {},
   "outputs": [],
   "source": [
    "import pandas as pd"
   ]
  },
  {
   "cell_type": "code",
   "execution_count": 67,
   "metadata": {},
   "outputs": [
    {
     "data": {
      "text/plain": [
       "<Axes: >"
      ]
     },
     "execution_count": 67,
     "metadata": {},
     "output_type": "execute_result"
    },
    {
     "data": {
      "image/png": "[encoded data removed]",
      "text/plain": [
       "<Figure size 640x480 with 1 Axes>"
      ]
     },
     "metadata": {},
     "output_type": "display_data"
    }
   ],
   "source": [
    "pd.DataFrame({\"loss\": history.history[\"loss\"], \"val_loss\": history.history[\"val_loss\"]}).plot()"
   ]
  },
  {
   "cell_type": "code",
   "execution_count": 85,
   "metadata": {},
   "outputs": [
    {
     "name": "stdout",
     "output_type": "stream",
     "text": [
      "79/79 [==============================] - 6s 71ms/step - loss: 0.4367 - accuracy: 0.8792\n"
     ]
    },
    {
     "data": {
      "text/plain": [
       "[0.4366636574268341, 0.8791999816894531]"
      ]
     },
     "execution_count": 85,
     "metadata": {},
     "output_type": "execute_result"
    }
   ],
   "source": [
    "model.evaluate(test_data, steps=len(test_data))"
   ]
  },
  {
   "cell_type": "code",
   "execution_count": 77,
   "metadata": {},
   "outputs": [],
   "source": [
    "model1 = tf_keras.Sequential([\n",
    "    hub.KerasLayer(\"https://www.kaggle.com/models/tensorflow/resnet-50/TensorFlow2/feature-vector/1\", trainable=False, input_shape=(224, 224, 3)),\n",
    "    tf_keras.layers.Dense(10, activation=\"softmax\")\n",
    "])"
   ]
  },
  {
   "cell_type": "code",
   "execution_count": 78,
   "metadata": {},
   "outputs": [],
   "source": [
    "model1.compile(loss=\"categorical_crossentropy\", optimizer=tf_keras.optimizers.Adam(), metrics=[\"accuracy\"])"
   ]
  },
  {
   "cell_type": "code",
   "execution_count": 79,
   "metadata": {},
   "outputs": [
    {
     "name": "stdout",
     "output_type": "stream",
     "text": [
      "Model: \"sequential_10\"\n",
      "_________________________________________________________________\n",
      " Layer (type)                Output Shape              Param #   \n",
      "=================================================================\n",
      " keras_layer_10 (KerasLayer  (None, 2048)              23561152  \n",
      " )                                                               \n",
      "                                                                 \n",
      " dense_8 (Dense)             (None, 10)                20490     \n",
      "                                                                 \n",
      "=================================================================\n",
      "Total params: 23581642 (89.96 MB)\n",
      "Trainable params: 20490 (80.04 KB)\n",
      "Non-trainable params: 23561152 (89.88 MB)\n",
      "_________________________________________________________________\n"
     ]
    }
   ],
   "source": [
    "model1.summary()"
   ]
  },
  {
   "cell_type": "code",
   "execution_count": 80,
   "metadata": {},
   "outputs": [],
   "source": [
    "tensorboard_callback = create_tensorboard_callback(\"tensorflow_hub\", \"ResNet50\")"
   ]
  },
  {
   "cell_type": "code",
   "execution_count": 81,
   "metadata": {},
   "outputs": [
    {
     "name": "stdout",
     "output_type": "stream",
     "text": [
      "Epoch 1/10\n",
      "24/24 [==============================] - 11s 265ms/step - loss: 1.8504 - accuracy: 0.4053 - val_loss: 1.0732 - val_accuracy: 0.6784\n",
      "Epoch 2/10\n",
      "24/24 [==============================] - 5s 236ms/step - loss: 0.8308 - accuracy: 0.7613 - val_loss: 0.7225 - val_accuracy: 0.7856\n",
      "Epoch 3/10\n",
      "24/24 [==============================] - 6s 266ms/step - loss: 0.5648 - accuracy: 0.8453 - val_loss: 0.6086 - val_accuracy: 0.8216\n",
      "Epoch 4/10\n",
      "24/24 [==============================] - 5s 228ms/step - loss: 0.4229 - accuracy: 0.8987 - val_loss: 0.6147 - val_accuracy: 0.8120\n",
      "Epoch 5/10\n",
      "24/24 [==============================] - 5s 228ms/step - loss: 0.3199 - accuracy: 0.9387 - val_loss: 0.5376 - val_accuracy: 0.8328\n",
      "Epoch 6/10\n",
      "24/24 [==============================] - 6s 238ms/step - loss: 0.2792 - accuracy: 0.9453 - val_loss: 0.5294 - val_accuracy: 0.8308\n",
      "Epoch 7/10\n",
      "24/24 [==============================] - 6s 238ms/step - loss: 0.2158 - accuracy: 0.9707 - val_loss: 0.5010 - val_accuracy: 0.8416\n",
      "Epoch 8/10\n",
      "24/24 [==============================] - 5s 232ms/step - loss: 0.1899 - accuracy: 0.9747 - val_loss: 0.5101 - val_accuracy: 0.8372\n",
      "Epoch 9/10\n",
      "24/24 [==============================] - 6s 275ms/step - loss: 0.1606 - accuracy: 0.9867 - val_loss: 0.4980 - val_accuracy: 0.8364\n",
      "Epoch 10/10\n",
      "24/24 [==============================] - 5s 227ms/step - loss: 0.1246 - accuracy: 0.9893 - val_loss: 0.4986 - val_accuracy: 0.8344\n"
     ]
    }
   ],
   "source": [
    "history = model1.fit(train_data, epochs=10, validation_data=test_data, callbacks=[tensorboard_callback], steps_per_epoch=len(train_data), validation_steps=len(test_data))"
   ]
  },
  {
   "cell_type": "code",
   "execution_count": 82,
   "metadata": {},
   "outputs": [
    {
     "data": {
      "text/plain": [
       "<Axes: >"
      ]
     },
     "execution_count": 82,
     "metadata": {},
     "output_type": "execute_result"
    },
    {
     "data": {
      "image/png": "[encoded data removed]",
      "text/plain": [
       "<Figure size 640x480 with 1 Axes>"
      ]
     },
     "metadata": {},
     "output_type": "display_data"
    }
   ],
   "source": [
    "pd.DataFrame({\"loss\": history.history[\"loss\"], \"val_loss\": history.history[\"val_loss\"]}).plot()"
   ]
  },
  {
   "cell_type": "code",
   "execution_count": 84,
   "metadata": {},
   "outputs": [
    {
     "name": "stdout",
     "output_type": "stream",
     "text": [
      "79/79 [==============================] - 6s 71ms/step - loss: 0.5023 - accuracy: 0.8336\n"
     ]
    },
    {
     "data": {
      "text/plain": [
       "[0.5023298859596252, 0.8335999846458435]"
      ]
     },
     "execution_count": 84,
     "metadata": {},
     "output_type": "execute_result"
    }
   ],
   "source": [
    "model1.evaluate(test_data, steps=len(test_data))"
   ]
  },
  {
   "cell_type": "code",
   "execution_count": 1,
   "metadata": {},
   "outputs": [
    {
     "name": "stdout",
     "output_type": "stream",
     "text": [
      "WARNING: All log messages before absl::InitializeLog() is called are written to STDERR\n",
      "E0000 00:00:1738691384.701441   93355 cuda_dnn.cc:8310] Unable to register cuDNN factory: Attempting to register factory for plugin cuDNN when one has already been registered\n",
      "E0000 00:00:1738691384.705964   93355 cuda_blas.cc:1418] Unable to register cuBLAS factory: Attempting to register factory for plugin cuBLAS when one has already been registered\n",
      "\n",
      "NOTE: Using experimental fast data loading logic. To disable, pass\n",
      "    \"--load_fast=false\" and report issues on GitHub. More details:\n",
      "    https://github.com/tensorflow/tensorboard/issues/4784\n",
      "\n",
      "Serving TensorBoard on localhost; to expose to the network, use a proxy or pass --bind_all\n",
      "TensorBoard 2.18.0 at http://localhost:6006/ (Press CTRL+C to quit)\n",
      "^C\n"
     ]
    }
   ],
   "source": [
    "!tensorboard --logdir=./tensorflow_hub"
   ]
  },
  {
   "cell_type": "code",
   "execution_count": null,
   "metadata": {},
   "outputs": [],
   "source": []
  }
 ],
 "metadata": {
  "kernelspec": {
   "display_name": "base",
   "language": "python",
   "name": "python3"
  },
  "language_info": {
   "codemirror_mode": {
    "name": "ipython",
    "version": 3
   },
   "file_extension": ".py",
   "mimetype": "text/x-python",
   "name": "python",
   "nbconvert_exporter": "python",
   "pygments_lexer": "ipython3",
   "version": "3.12.8"
  }
 },
 "nbformat": 4,
 "nbformat_minor": 2
}
