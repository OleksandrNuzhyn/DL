{
 "cells": [
  {
   "cell_type": "code",
   "execution_count": 2,
   "metadata": {},
   "outputs": [],
   "source": [
    "import tensorflow as tf\n",
    "from transformers import TFBertModel, BertTokenizer\n",
    "from datasets import load_dataset\n",
    "import matplotlib.pyplot as plt\n",
    "import numpy as np"
   ]
  },
  {
   "cell_type": "code",
   "execution_count": 3,
   "metadata": {},
   "outputs": [],
   "source": [
    "dataset = load_dataset(\"microsoft/ms_marco\", \"v1.1\")"
   ]
  },
  {
   "cell_type": "code",
   "execution_count": 4,
   "metadata": {},
   "outputs": [
    {
     "data": {
      "text/plain": [
       "{'answers': ['Results-Based Accountability is a disciplined way of thinking and taking action that communities can use to improve the lives of children, youth, families, adults and the community as a whole.'],\n",
       " 'passages': {'is_selected': [0, 0, 0, 0, 0, 1, 0, 0, 0, 0],\n",
       "  'passage_text': [\"Since 2007, the RBA's outstanding reputation has been affected by the 'Securency' or NPA scandal. These RBA subsidiaries were involved in bribing overseas officials so that Australia might win lucrative note-printing contracts. The assets of the bank include the gold and foreign exchange reserves of Australia, which is estimated to have a net worth of A$101 billion. Nearly 94% of the RBA's employees work at its headquarters in Sydney, New South Wales and at the Business Resumption Site.\",\n",
       "   \"The Reserve Bank of Australia (RBA) came into being on 14 January 1960 as Australia 's central bank and banknote issuing authority, when the Reserve Bank Act 1959 removed the central banking functions from the Commonwealth Bank. The assets of the bank include the gold and foreign exchange reserves of Australia, which is estimated to have a net worth of A$101 billion. Nearly 94% of the RBA's employees work at its headquarters in Sydney, New South Wales and at the Business Resumption Site.\",\n",
       "   'RBA Recognized with the 2014 Microsoft US Regional Partner of the ... by PR Newswire. Contract Awarded for supply and support the. Securitisations System used for risk management and analysis. ',\n",
       "   'The inner workings of a rebuildable atomizer are surprisingly simple. The coil inside the RBA is made of some type of resistance wire, normally Kanthal or nichrome. When a current is applied to the coil (resistance wire), it heats up and the heated coil then vaporizes the eliquid. 1 The bottom feed RBA is, perhaps, the easiest of all RBA types to build, maintain, and use. 2  It is filled from below, much like bottom coil clearomizer. 3  Bottom feed RBAs can utilize cotton instead of silica for the wick. 4  The Genesis, or genny, is a top feed RBA that utilizes a short woven mesh wire.',\n",
       "   'Results-Based Accountability® (also known as RBA) is a disciplined way of thinking and taking action that communities can use to improve the lives of children, youth, families, adults and the community as a whole. RBA is also used by organizations to improve the performance of their programs. RBA improves the lives of children, families, and communities and the performance of programs because RBA: 1  Gets from talk to action quickly; 2  Is a simple, common sense process that everyone can understand; 3  Helps groups to surface and challenge assumptions that can be barriers to innovation;',\n",
       "   'Results-Based Accountability® (also known as RBA) is a disciplined way of thinking and taking action that communities can use to improve the lives of children, youth, families, adults and the community as a whole. RBA is also used by organizations to improve the performance of their programs. Creating Community Impact with RBA. Community impact focuses on conditions of well-being for children, families and the community as a whole that a group of leaders is working collectively to improve. For example: “Residents with good jobs,” “Children ready for school,” or “A safe and clean neighborhood”.',\n",
       "   'RBA uses a data-driven, decision-making process to help communities and organizations get beyond talking about problems to taking action to solve problems. It is a simple, common sense framework that everyone can understand. RBA starts with ends and works backward, towards means. The “end” or difference you are trying to make looks slightly different if you are working on a broad community level or are focusing on your specific program or organization. RBA improves the lives of children, families, and communities and the performance of programs because RBA: 1  Gets from talk to action quickly; 2  Is a simple, common sense process that everyone can understand; 3  Helps groups to surface and challenge assumptions that can be barriers to innovation;',\n",
       "   'vs. NetIQ Identity Manager. Risk-based authentication (RBA) is a method of applying varying levels of stringency to authentication processes based on the likelihood that access to a given system could result in its being compromised. Risk-based authentication can be categorized as either user-dependent or transaction-dependent. User-dependent RBA processes employ the same authentication for every session initiated by a given user; the exact credentials that the site demands depend on who the user is.',\n",
       "   'A rebuildable atomizer (RBA), often referred to as simply a “rebuildable,” is just a special type of atomizer used in the Vape Pen and Mod Industry that connects to a personal vaporizer. 1 The bottom feed RBA is, perhaps, the easiest of all RBA types to build, maintain, and use. 2  It is filled from below, much like bottom coil clearomizer. 3  Bottom feed RBAs can utilize cotton instead of silica for the wick. 4  The Genesis, or genny, is a top feed RBA that utilizes a short woven mesh wire.',\n",
       "   'Get To Know Us. RBA is a digital and technology consultancy with roots in strategy, design and technology. Our team of specialists help progressive companies deliver modern digital experiences backed by proven technology engineering. '],\n",
       "  'url': ['https://en.wikipedia.org/wiki/Reserve_Bank_of_Australia',\n",
       "   'https://en.wikipedia.org/wiki/Reserve_Bank_of_Australia',\n",
       "   'http://acronyms.thefreedictionary.com/RBA',\n",
       "   'https://www.slimvapepen.com/rebuildable-atomizer-rba/',\n",
       "   'http://rba-africa.com/about/what-is-rba/',\n",
       "   'http://resultsleadership.org/what-is-results-based-accountability-rba/',\n",
       "   'http://rba-africa.com/about/what-is-rba/',\n",
       "   'http://searchsecurity.techtarget.com/definition/risk-based-authentication-RBA',\n",
       "   'https://www.slimvapepen.com/rebuildable-atomizer-rba/',\n",
       "   'http://www.rbaconsulting.com/']},\n",
       " 'query': 'what is rba',\n",
       " 'query_id': 19699,\n",
       " 'query_type': 'description',\n",
       " 'wellFormedAnswers': []}"
      ]
     },
     "execution_count": 4,
     "metadata": {},
     "output_type": "execute_result"
    }
   ],
   "source": [
    "dataset[\"train\"][0]"
   ]
  },
  {
   "cell_type": "code",
   "execution_count": 4,
   "metadata": {},
   "outputs": [],
   "source": [
    "def prepare_data(examples):\n",
    "    queries = []\n",
    "    passages = []\n",
    "    labels = []\n",
    "    \n",
    "    for query, passages_dict in zip(examples[\"query\"], examples[\"passages\"]):\n",
    "        for passage, label in zip(passages_dict[\"passage_text\"], passages_dict[\"is_selected\"]):\n",
    "            queries.append(query)\n",
    "            passages.append(passage)\n",
    "            labels.append(label)\n",
    "            \n",
    "    return {\"query\": queries, \"passage\": passages, \"label\": labels}"
   ]
  },
  {
   "cell_type": "code",
   "execution_count": 5,
   "metadata": {},
   "outputs": [],
   "source": [
    "dataset_processed = dataset.map(prepare_data, batched=True, remove_columns=dataset['train'].column_names)"
   ]
  },
  {
   "cell_type": "code",
   "execution_count": 6,
   "metadata": {},
   "outputs": [
    {
     "data": {
      "text/plain": [
       "DatasetDict({\n",
       "    validation: Dataset({\n",
       "        features: ['query', 'passage', 'label'],\n",
       "        num_rows: 82360\n",
       "    })\n",
       "    train: Dataset({\n",
       "        features: ['query', 'passage', 'label'],\n",
       "        num_rows: 676193\n",
       "    })\n",
       "    test: Dataset({\n",
       "        features: ['query', 'passage', 'label'],\n",
       "        num_rows: 79176\n",
       "    })\n",
       "})"
      ]
     },
     "execution_count": 6,
     "metadata": {},
     "output_type": "execute_result"
    }
   ],
   "source": [
    "dataset_processed"
   ]
  },
  {
   "cell_type": "code",
   "execution_count": 8,
   "metadata": {},
   "outputs": [
    {
     "data": {
      "text/plain": [
       "({'query': 'what is rba',\n",
       "  'passage': \"Since 2007, the RBA's outstanding reputation has been affected by the 'Securency' or NPA scandal. These RBA subsidiaries were involved in bribing overseas officials so that Australia might win lucrative note-printing contracts. The assets of the bank include the gold and foreign exchange reserves of Australia, which is estimated to have a net worth of A$101 billion. Nearly 94% of the RBA's employees work at its headquarters in Sydney, New South Wales and at the Business Resumption Site.\",\n",
       "  'label': 0},\n",
       " {'query': 'what is rba',\n",
       "  'passage': \"The Reserve Bank of Australia (RBA) came into being on 14 January 1960 as Australia 's central bank and banknote issuing authority, when the Reserve Bank Act 1959 removed the central banking functions from the Commonwealth Bank. The assets of the bank include the gold and foreign exchange reserves of Australia, which is estimated to have a net worth of A$101 billion. Nearly 94% of the RBA's employees work at its headquarters in Sydney, New South Wales and at the Business Resumption Site.\",\n",
       "  'label': 0})"
      ]
     },
     "execution_count": 8,
     "metadata": {},
     "output_type": "execute_result"
    }
   ],
   "source": [
    "dataset_processed[\"train\"][0], dataset_processed[\"train\"][1]"
   ]
  },
  {
   "cell_type": "code",
   "execution_count": 7,
   "metadata": {},
   "outputs": [],
   "source": [
    "tokenizer = BertTokenizer.from_pretrained(\"bert-base-uncased\")"
   ]
  },
  {
   "cell_type": "code",
   "execution_count": 10,
   "metadata": {},
   "outputs": [],
   "source": [
    "def count_tokens_batched(examples):\n",
    "    query_tokenized = tokenizer(examples[\"query\"], return_tensors=None)\n",
    "    query_counts = [len(seq) for seq in query_tokenized[\"input_ids\"]]\n",
    "\n",
    "    passage_tokenized = tokenizer(examples[\"passage\"], return_tensors=None)\n",
    "    passage_counts = [len(seq) for seq in passage_tokenized[\"input_ids\"]]\n",
    "    \n",
    "    return {\"query_token_counts\": query_counts, \"passage_token_counts\": passage_counts}"
   ]
  },
  {
   "cell_type": "code",
   "execution_count": 11,
   "metadata": {},
   "outputs": [],
   "source": [
    "tokenized_dataset = dataset_processed[\"train\"].map(\n",
    "    count_tokens_batched,\n",
    "    batched=True,\n",
    ")\n",
    "\n",
    "query_token_counts = tokenized_dataset[\"query_token_counts\"]\n",
    "passage_token_counts = tokenized_dataset[\"passage_token_counts\"]"
   ]
  },
  {
   "cell_type": "code",
   "execution_count": 12,
   "metadata": {},
   "outputs": [
    {
     "name": "stdout",
     "output_type": "stream",
     "text": [
      "Запити (query):\n",
      "Мінімальна кількість токенів: 4\n",
      "Максимальна кількість токенів: 52\n",
      "Середня кількість токенів: 9.17\n",
      "Медіана: 9.00\n",
      "\n",
      "Проходи (passage):\n",
      "Мінімальна кількість токенів: 7\n",
      "Максимальна кількість токенів: 387\n",
      "Середня кількість токенів: 96.37\n",
      "Медіана: 96.00\n"
     ]
    },
    {
     "data": {
      "image/png": "[encoded data removed]",
      "text/plain": [
       "<Figure size 1200x500 with 2 Axes>"
      ]
     },
     "metadata": {},
     "output_type": "display_data"
    }
   ],
   "source": [
    "print(\"Запити (query):\")\n",
    "print(f\"Мінімальна кількість токенів: {min(query_token_counts)}\")\n",
    "print(f\"Максимальна кількість токенів: {max(query_token_counts)}\")\n",
    "print(f\"Середня кількість токенів: {np.mean(query_token_counts):.2f}\")\n",
    "print(f\"Медіана: {np.median(query_token_counts):.2f}\")\n",
    "\n",
    "print(\"\\nПроходи (passage):\")\n",
    "print(f\"Мінімальна кількість токенів: {min(passage_token_counts)}\")\n",
    "print(f\"Максимальна кількість токенів: {max(passage_token_counts)}\")\n",
    "print(f\"Середня кількість токенів: {np.mean(passage_token_counts):.2f}\")\n",
    "print(f\"Медіана: {np.median(passage_token_counts):.2f}\")\n",
    "\n",
    "plt.figure(figsize=(12, 5))\n",
    "\n",
    "plt.subplot(1, 2, 1)\n",
    "plt.hist(query_token_counts, bins=50, color='blue', alpha=0.7)\n",
    "plt.title(\"Розподіл кількості токенів для запитів (query)\")\n",
    "plt.xlabel(\"Кількість токенів\")\n",
    "plt.ylabel(\"Частота\")\n",
    "plt.grid(True)\n",
    "\n",
    "plt.subplot(1, 2, 2)\n",
    "plt.hist(passage_token_counts, bins=50, color='green', alpha=0.7)\n",
    "plt.title(\"Розподіл кількості токенів для проходів (passage)\")\n",
    "plt.xlabel(\"Кількість токенів\")\n",
    "plt.ylabel(\"Частота\")\n",
    "plt.grid(True)\n",
    "\n",
    "plt.tight_layout()"
   ]
  },
  {
   "cell_type": "code",
   "execution_count": 8,
   "metadata": {},
   "outputs": [],
   "source": [
    "QUERY_MAX_LEN = 26\n",
    "PASSAGE_MAX_LEN = 256"
   ]
  },
  {
   "cell_type": "code",
   "execution_count": 9,
   "metadata": {},
   "outputs": [],
   "source": [
    "def tokenize_function(examples):\n",
    "    query_tokens = tokenizer(examples[\"query\"], padding=\"max_length\", truncation=True, max_length=QUERY_MAX_LEN, return_tensors=\"tf\")\n",
    "    passage_tokens = tokenizer(examples[\"passage\"], padding=\"max_length\", truncation=True, max_length=PASSAGE_MAX_LEN, return_tensors=\"tf\")\n",
    "    \n",
    "    return {\n",
    "        \"query_input_ids\": query_tokens[\"input_ids\"],\n",
    "        \"query_attention_mask\": query_tokens[\"attention_mask\"],\n",
    "        \"passage_input_ids\": passage_tokens[\"input_ids\"],\n",
    "        \"passage_attention_mask\": passage_tokens[\"attention_mask\"],\n",
    "        \"label_inputs\": examples[\"label\"]\n",
    "    }"
   ]
  },
  {
   "cell_type": "code",
   "execution_count": 10,
   "metadata": {},
   "outputs": [],
   "source": [
    "tokenized_dataset = dataset_processed.map(tokenize_function, batched=True, remove_columns=dataset_processed['train'].column_names)"
   ]
  },
  {
   "cell_type": "code",
   "execution_count": 16,
   "metadata": {},
   "outputs": [],
   "source": [
    "tf.keras.saving.get_custom_objects().clear()"
   ]
  },
  {
   "cell_type": "code",
   "execution_count": 11,
   "metadata": {},
   "outputs": [],
   "source": [
    "@tf.keras.utils.register_keras_serializable(package=\"MyModels\")\n",
    "class BertWrapper(tf.keras.layers.Layer):\n",
    "    def __init__(self, model_name=\"bert-base-uncased\", **kwargs):\n",
    "        super().__init__(**kwargs)\n",
    "        self.model_name = model_name\n",
    "        self.model = TFBertModel.from_pretrained(model_name)\n",
    "    \n",
    "    def call(self, inputs, training=False):\n",
    "        return self.model(inputs, training=training)\n",
    "\n",
    "    def get_config(self):\n",
    "        config = super().get_config()\n",
    "        config.update({\n",
    "            \"model_name\": self.model_name\n",
    "        })\n",
    "        return config\n",
    "\n",
    "    @classmethod\n",
    "    def from_config(cls, config):\n",
    "        return cls(**config)"
   ]
  },
  {
   "cell_type": "code",
   "execution_count": 12,
   "metadata": {},
   "outputs": [],
   "source": [
    "@tf.keras.saving.register_keras_serializable(package=\"MyModels\")\n",
    "class BiEncoder(tf.keras.Model):\n",
    "    def __init__(self, bert_model, projection_size=512, **kwargs):\n",
    "        super().__init__(**kwargs)\n",
    "        self.bert = bert_model\n",
    "        self.bert.trainable = False\n",
    "        self.projection_size = projection_size\n",
    "        \n",
    "        self.projection = tf.keras.layers.Dense(projection_size, activation=None, kernel_regularizer=tf.keras.regularizers.l2(1e-3))\n",
    "\n",
    "        # Mean просто зберігає суму всіх значень (у цьому випадку loss) і ділить її на кількість оновлень.\n",
    "        # Середній loss по всім batch\n",
    "        self.loss_tracker = tf.keras.metrics.Mean(name=\"loss\")\n",
    "\n",
    "        # BinaryAccuracy підраховує кількість правильних передбачень і ділить її на загальну кількість передбачень.\n",
    "        # Середній BinaryAccuracy по всім batch\n",
    "        self.accuracy_metric = tf.keras.metrics.BinaryAccuracy(name=\"accuracy\")\n",
    "    \n",
    "    def call(self, inputs, training=False):\n",
    "        query_inputs = {\n",
    "            \"input_ids\": inputs[\"query_input_ids\"],\n",
    "            \"attention_mask\": inputs[\"query_attention_mask\"]\n",
    "        }\n",
    "        passage_inputs = {\n",
    "            \"input_ids\": inputs[\"passage_input_ids\"],\n",
    "            \"attention_mask\": inputs[\"passage_attention_mask\"]\n",
    "        }\n",
    "\n",
    "        # BERT використовується як попередньо натренована модель, яка вже навчилася розпізнавати структуру мови, граматику, семантику та відношення між словами. \n",
    "        # Його роль у цьому випадку – витягувати контекстуальні ембеддінги з тексту, які потім використовуються для fine-tuning.\n",
    "        query_outputs = self.bert(query_inputs, training=False)\n",
    "        passage_outputs = self.bert(passage_inputs, training=False)\n",
    "\n",
    "        # Dense шар навчається таким чином, щоб перетворити вихідні ембеддінги з BERT (pooler_output) у простір меншої розмірності, де:\n",
    "        # Для схожих пар (з позитивними мітками) ембеддінги наближаються один до одного (їх косинусна подібність має бути високою, близькою до 1).\n",
    "        # Для несхожих пар (з негативними мітками) ембеддінги віддаляються (їх косинусна подібність має бути низькою, або нижчою за певний поріг).\n",
    "        query_embeddings = self.projection(query_outputs.pooler_output, training=training)\n",
    "        passage_embeddings = self.projection(passage_outputs.pooler_output, training=training)\n",
    "        \n",
    "        # Нормалізація зменшує вплив абсолютної величини векторів, що сприяє більш стабільному та ефективному навчання моделі.\n",
    "        query_embeddings = tf.nn.l2_normalize(query_embeddings, axis=1)\n",
    "        passage_embeddings = tf.nn.l2_normalize(passage_embeddings, axis=1)\n",
    "        \n",
    "        return query_embeddings, passage_embeddings\n",
    "    \n",
    "    # Цей метод обчислює косинусну подібність між ембедингами запитів і текстів. Значення близькі до 1 означають дуже подібні вектори, а значення близькі до 0 - дуже різні.\n",
    "    def compute_similarity(self, query_embeddings, passage_embeddings):\n",
    "        return tf.reduce_sum(query_embeddings * passage_embeddings, axis=1)\n",
    "    \n",
    "    def compute_loss(self, labels, similarities):\n",
    "        labels = tf.cast(labels, tf.float32)\n",
    "        similarities = tf.cast(similarities, tf.float32)\n",
    "        \n",
    "        # Обчислюємо (1 - similarity) - це дає 0, якщо подібність ідеальна (=1), і більше значення, якщо подібність менша.\n",
    "        # Множимо на labels (0 або 1), щоб враховувати лише позитивні пари.\n",
    "        positive_loss = tf.reduce_sum((1 - similarities) * labels)\n",
    "        \n",
    "        # Ми хочемо, щоб similarities було якнайменше.\n",
    "        negative_loss = tf.reduce_sum(tf.maximum(0.0, similarities) * (1 - labels))\n",
    "        \n",
    "        # Середній loss по поточному batch\n",
    "        batch_size = tf.cast(tf.shape(labels)[0], tf.float32)\n",
    "        loss = (positive_loss + negative_loss) / batch_size\n",
    "        \n",
    "        return loss\n",
    "    \n",
    "    def train_step(self, data):\n",
    "        x, y = data\n",
    "        \n",
    "        with tf.GradientTape() as tape:\n",
    "            query_embeddings, passage_embeddings = self(x, training=True)\n",
    "            similarities = self.compute_similarity(query_embeddings, passage_embeddings)\n",
    "            loss = self.compute_loss(y, similarities)\n",
    "        \n",
    "        gradients = tape.gradient(loss, self.trainable_variables)\n",
    "        self.optimizer.apply_gradients(zip(gradients, self.trainable_variables))\n",
    "        \n",
    "        self.loss_tracker.update_state(loss)\n",
    "        # Середній BinaryAccuracy по поточному batch\n",
    "        self.accuracy_metric.update_state(y, tf.cast(similarities > 0.5, tf.float32))\n",
    "        \n",
    "        return {\n",
    "            \"loss\": self.loss_tracker.result(),\n",
    "            \"accuracy\": self.accuracy_metric.result()\n",
    "        }\n",
    "\n",
    "    def test_step(self, data):\n",
    "        x, y = data\n",
    "        \n",
    "        query_embeddings, passage_embeddings = self(x, training=False)\n",
    "        similarities = self.compute_similarity(query_embeddings, passage_embeddings)\n",
    "        loss = self.compute_loss(y, similarities)\n",
    "        \n",
    "        self.loss_tracker.update_state(loss)\n",
    "        self.accuracy_metric.update_state(y, tf.cast(similarities > 0.5, tf.float32))\n",
    "        \n",
    "        return {\n",
    "            \"loss\": self.loss_tracker.result(), \n",
    "            \"accuracy\": self.accuracy_metric.result()\n",
    "        }\n",
    "    \n",
    "    def get_query_embedding(self, input_ids, attention_mask):\n",
    "        query_inputs = {\n",
    "            \"input_ids\": input_ids,\n",
    "            \"attention_mask\": attention_mask\n",
    "        }\n",
    "\n",
    "        outputs = self.bert(query_inputs, training=False)\n",
    "        embedding = self.projection(outputs.pooler_output, training=False)\n",
    "\n",
    "        return tf.nn.l2_normalize(embedding, axis=1)\n",
    "\n",
    "    def get_passage_embedding(self, input_ids, attention_mask):\n",
    "        passage_inputs = {\n",
    "            \"input_ids\": input_ids,\n",
    "            \"attention_mask\": attention_mask\n",
    "        }\n",
    "        \n",
    "        outputs = self.bert(passage_inputs, training=False)\n",
    "        embedding = self.projection(outputs.pooler_output, training=False)\n",
    "        \n",
    "        return tf.nn.l2_normalize(embedding, axis=1)\n",
    "        \n",
    "    # Цей метод дозволяє автоматично виводити метрики при навчанні через model.fit().\n",
    "    @property\n",
    "    def metrics(self):\n",
    "        return [self.loss_tracker, self.accuracy_metric]\n",
    "    \n",
    "    def get_config(self):\n",
    "        config = super().get_config()\n",
    "        config.update({\n",
    "            \"bert_model\": tf.keras.saving.serialize_keras_object(self.bert),\n",
    "            \"projection_size\": self.projection_size\n",
    "        })\n",
    "        return config\n",
    "\n",
    "    @classmethod\n",
    "    def from_config(cls, config):\n",
    "        bert_model = tf.keras.saving.deserialize_keras_object(config[\"bert_model\"])\n",
    "        return cls(\n",
    "            bert_model=bert_model,\n",
    "            projection_size=config[\"projection_size\"]\n",
    "        )"
   ]
  },
  {
   "cell_type": "code",
   "execution_count": 13,
   "metadata": {},
   "outputs": [],
   "source": [
    "@tf.keras.saving.register_keras_serializable(package=\"MySchedules\")\n",
    "class CustomLearningRateSchedule(tf.keras.optimizers.schedules.LearningRateSchedule):\n",
    "    def __init__(self, initial_lr=1e-3, decay_rate=0.9, decay_steps=2000, min_lr=1e-5):\n",
    "        super().__init__()\n",
    "        self.initial_lr = initial_lr\n",
    "        self.decay_rate = decay_rate\n",
    "        self.decay_steps = decay_steps\n",
    "        self.min_lr = min_lr\n",
    "        \n",
    "    def __call__(self, step):\n",
    "        step = tf.cast(step, tf.float32)\n",
    "        decay_factor = self.decay_rate ** (step / self.decay_steps)\n",
    "        lr = self.initial_lr * decay_factor\n",
    "        lr = tf.maximum(lr, self.min_lr)\n",
    "                \n",
    "        return lr\n",
    "    \n",
    "    def get_config(self):\n",
    "        return {\n",
    "            \"initial_lr\": self.initial_lr,\n",
    "            \"decay_rate\": self.decay_rate,\n",
    "            \"decay_steps\": self.decay_steps,\n",
    "            \"min_lr\": self.min_lr\n",
    "        }\n",
    "\n",
    "    @classmethod\n",
    "    def from_config(cls, config):\n",
    "        return cls(**config)"
   ]
  },
  {
   "cell_type": "code",
   "execution_count": 15,
   "metadata": {},
   "outputs": [
    {
     "name": "stderr",
     "output_type": "stream",
     "text": [
      "Some weights of the PyTorch model were not used when initializing the TF 2.0 model TFBertModel: ['cls.predictions.bias', 'cls.predictions.transform.LayerNorm.bias', 'cls.predictions.transform.LayerNorm.weight', 'cls.predictions.transform.dense.bias', 'cls.predictions.transform.dense.weight', 'cls.seq_relationship.bias', 'cls.seq_relationship.weight']\n",
      "- This IS expected if you are initializing TFBertModel from a PyTorch model trained on another task or with another architecture (e.g. initializing a TFBertForSequenceClassification model from a BertForPreTraining model).\n",
      "- This IS NOT expected if you are initializing TFBertModel from a PyTorch model that you expect to be exactly identical (e.g. initializing a TFBertForSequenceClassification model from a BertForSequenceClassification model).\n",
      "All the weights of TFBertModel were initialized from the PyTorch model.\n",
      "If your task is similar to the task the model of the checkpoint was trained on, you can already use TFBertModel for predictions without further training.\n"
     ]
    }
   ],
   "source": [
    "bert_wrapper = BertWrapper(\"bert-base-uncased\")\n",
    "bi_encoder = BiEncoder(bert_model=bert_wrapper, projection_size=512)\n",
    "lr_schedule = CustomLearningRateSchedule()"
   ]
  },
  {
   "cell_type": "code",
   "execution_count": 39,
   "metadata": {},
   "outputs": [
    {
     "data": {
      "text/plain": [
       "{'MyModels>BertWrapper': __main__.BertWrapper,\n",
       " 'MyModels>BiEncoder': __main__.BiEncoder,\n",
       " 'MySchedules>CustomLearningRateSchedule': __main__.CustomLearningRateSchedule}"
      ]
     },
     "execution_count": 39,
     "metadata": {},
     "output_type": "execute_result"
    }
   ],
   "source": [
    "tf.keras.saving.get_custom_objects()"
   ]
  },
  {
   "cell_type": "code",
   "execution_count": 16,
   "metadata": {},
   "outputs": [],
   "source": [
    "BATCH_SIZE = 128\n",
    "EPOCHS = 1"
   ]
  },
  {
   "cell_type": "code",
   "execution_count": 41,
   "metadata": {},
   "outputs": [],
   "source": [
    "num_samples = int(0.5 * len(tokenized_dataset[\"train\"]))\n",
    "small_train_dataset = tokenized_dataset[\"train\"].select(range(num_samples))\n",
    "\n",
    "tf_train_dataset = small_train_dataset.to_tf_dataset(\n",
    "    columns=[\n",
    "        \"query_input_ids\", \"query_attention_mask\", \"passage_input_ids\", \"passage_attention_mask\", \"label_inputs\"\n",
    "    ],\n",
    "    label_cols=\"label_inputs\",\n",
    "    shuffle=True,\n",
    "    batch_size=BATCH_SIZE)"
   ]
  },
  {
   "cell_type": "code",
   "execution_count": 42,
   "metadata": {},
   "outputs": [],
   "source": [
    "tf_valid_dataset = tokenized_dataset[\"validation\"].to_tf_dataset(\n",
    "    columns=[\n",
    "        \"query_input_ids\", \"query_attention_mask\", \"passage_input_ids\", \"passage_attention_mask\", \"label_inputs\"\n",
    "    ],\n",
    "    label_cols=\"label_inputs\",\n",
    "    shuffle=False,\n",
    "    batch_size=BATCH_SIZE)"
   ]
  },
  {
   "cell_type": "code",
   "execution_count": 47,
   "metadata": {},
   "outputs": [],
   "source": [
    "bi_encoder.compile(optimizer=tf.keras.optimizers.Adam(learning_rate=lr_schedule))"
   ]
  },
  {
   "cell_type": "code",
   "execution_count": 48,
   "metadata": {},
   "outputs": [
    {
     "name": "stdout",
     "output_type": "stream",
     "text": [
      "2642/2642 [==============================] - 3370s 1s/step - loss: 0.1596 - accuracy: 0.8653 - val_loss: 0.1515 - val_accuracy: 0.8662\n"
     ]
    }
   ],
   "source": [
    "history = bi_encoder.fit(tf_train_dataset, validation_data=tf_valid_dataset, epochs=EPOCHS, verbose=1)"
   ]
  },
  {
   "cell_type": "code",
   "execution_count": 17,
   "metadata": {},
   "outputs": [],
   "source": [
    "save_path = './semantic_search_model'"
   ]
  },
  {
   "cell_type": "code",
   "execution_count": 50,
   "metadata": {},
   "outputs": [
    {
     "name": "stdout",
     "output_type": "stream",
     "text": [
      "INFO:tensorflow:Unsupported signature for serialization: ((TensorSpec(shape=(768, 512), dtype=tf.float32, name='gradient'), <tensorflow.python.framework.func_graph.UnknownArgument object at 0x7fb457e72e40>, 140417947607376), {}).\n"
     ]
    },
    {
     "name": "stderr",
     "output_type": "stream",
     "text": [
      "INFO:tensorflow:Unsupported signature for serialization: ((TensorSpec(shape=(768, 512), dtype=tf.float32, name='gradient'), <tensorflow.python.framework.func_graph.UnknownArgument object at 0x7fb457e72e40>, 140417947607376), {}).\n"
     ]
    },
    {
     "name": "stdout",
     "output_type": "stream",
     "text": [
      "INFO:tensorflow:Unsupported signature for serialization: ((TensorSpec(shape=(512,), dtype=tf.float32, name='gradient'), <tensorflow.python.framework.func_graph.UnknownArgument object at 0x7fb457e73830>, 140417944471632), {}).\n"
     ]
    },
    {
     "name": "stderr",
     "output_type": "stream",
     "text": [
      "INFO:tensorflow:Unsupported signature for serialization: ((TensorSpec(shape=(512,), dtype=tf.float32, name='gradient'), <tensorflow.python.framework.func_graph.UnknownArgument object at 0x7fb457e73830>, 140417944471632), {}).\n"
     ]
    },
    {
     "name": "stdout",
     "output_type": "stream",
     "text": [
      "INFO:tensorflow:Unsupported signature for serialization: ((TensorSpec(shape=(768, 512), dtype=tf.float32, name='gradient'), <tensorflow.python.framework.func_graph.UnknownArgument object at 0x7fb457e72e40>, 140417947607376), {}).\n"
     ]
    },
    {
     "name": "stderr",
     "output_type": "stream",
     "text": [
      "INFO:tensorflow:Unsupported signature for serialization: ((TensorSpec(shape=(768, 512), dtype=tf.float32, name='gradient'), <tensorflow.python.framework.func_graph.UnknownArgument object at 0x7fb457e72e40>, 140417947607376), {}).\n"
     ]
    },
    {
     "name": "stdout",
     "output_type": "stream",
     "text": [
      "INFO:tensorflow:Unsupported signature for serialization: ((TensorSpec(shape=(512,), dtype=tf.float32, name='gradient'), <tensorflow.python.framework.func_graph.UnknownArgument object at 0x7fb457e73830>, 140417944471632), {}).\n"
     ]
    },
    {
     "name": "stderr",
     "output_type": "stream",
     "text": [
      "INFO:tensorflow:Unsupported signature for serialization: ((TensorSpec(shape=(512,), dtype=tf.float32, name='gradient'), <tensorflow.python.framework.func_graph.UnknownArgument object at 0x7fb457e73830>, 140417944471632), {}).\n"
     ]
    },
    {
     "name": "stdout",
     "output_type": "stream",
     "text": [
      "INFO:tensorflow:Assets written to: ./semantic_search_model/assets\n"
     ]
    },
    {
     "name": "stderr",
     "output_type": "stream",
     "text": [
      "INFO:tensorflow:Assets written to: ./semantic_search_model/assets\n"
     ]
    }
   ],
   "source": [
    "bi_encoder.save(\n",
    "    save_path,\n",
    "    save_format=\"tf\",\n",
    "    save_traces=True\n",
    ")"
   ]
  },
  {
   "cell_type": "code",
   "execution_count": 18,
   "metadata": {},
   "outputs": [
    {
     "name": "stderr",
     "output_type": "stream",
     "text": [
      "Some weights of the PyTorch model were not used when initializing the TF 2.0 model TFBertModel: ['cls.predictions.bias', 'cls.predictions.transform.LayerNorm.bias', 'cls.predictions.transform.LayerNorm.weight', 'cls.predictions.transform.dense.bias', 'cls.predictions.transform.dense.weight', 'cls.seq_relationship.bias', 'cls.seq_relationship.weight']\n",
      "- This IS expected if you are initializing TFBertModel from a PyTorch model trained on another task or with another architecture (e.g. initializing a TFBertForSequenceClassification model from a BertForPreTraining model).\n",
      "- This IS NOT expected if you are initializing TFBertModel from a PyTorch model that you expect to be exactly identical (e.g. initializing a TFBertForSequenceClassification model from a BertForSequenceClassification model).\n",
      "All the weights of TFBertModel were initialized from the PyTorch model.\n",
      "If your task is similar to the task the model of the checkpoint was trained on, you can already use TFBertModel for predictions without further training.\n"
     ]
    }
   ],
   "source": [
    "custom_objects = {\n",
    "    \"BertWrapper\": BertWrapper,\n",
    "    \"BiEncoder\": BiEncoder,\n",
    "    \"CustomLearningRateSchedule\": CustomLearningRateSchedule,\n",
    "    \"Custom>Adam\": tf.keras.optimizers.Adam\n",
    "}\n",
    "\n",
    "loaded_model = tf.keras.models.load_model(\n",
    "    save_path,\n",
    "    custom_objects=custom_objects\n",
    ")"
   ]
  },
  {
   "cell_type": "code",
   "execution_count": 29,
   "metadata": {},
   "outputs": [],
   "source": [
    "query_dataset = tokenized_dataset[\"test\"].to_tf_dataset(\n",
    "    columns=[\n",
    "        \"query_input_ids\", \"query_attention_mask\"\n",
    "    ],\n",
    "    shuffle=False,\n",
    "    batch_size=BATCH_SIZE)"
   ]
  },
  {
   "cell_type": "code",
   "execution_count": 30,
   "metadata": {},
   "outputs": [
    {
     "name": "stdout",
     "output_type": "stream",
     "text": [
      "tf.Tensor(\n",
      "[[ 0.02479496 -0.01693601 -0.00658636 ... -0.00607428 -0.02764299\n",
      "  -0.03300392]\n",
      " [ 0.02479496 -0.01693601 -0.00658636 ... -0.00607428 -0.02764299\n",
      "  -0.03300392]\n",
      " [ 0.02479496 -0.01693601 -0.00658636 ... -0.00607428 -0.02764299\n",
      "  -0.03300392]\n",
      " ...\n",
      " [ 0.05673377 -0.00784211 -0.02479044 ... -0.01192315 -0.06061027\n",
      "  -0.04738678]\n",
      " [ 0.05673377 -0.00784211 -0.02479044 ... -0.01192315 -0.06061027\n",
      "  -0.04738678]\n",
      " [ 0.05673377 -0.00784211 -0.02479044 ... -0.01192315 -0.06061027\n",
      "  -0.04738678]], shape=(128, 512), dtype=float32)\n"
     ]
    }
   ],
   "source": [
    "for batch in query_dataset.take(1):\n",
    "    query_emb = loaded_model.get_query_embedding(\n",
    "        input_ids=batch[\"query_input_ids\"],\n",
    "        attention_mask=batch[\"query_attention_mask\"]\n",
    "    )\n",
    "    print(query_emb)"
   ]
  },
  {
   "cell_type": "code",
   "execution_count": 19,
   "metadata": {},
   "outputs": [],
   "source": [
    "from tqdm import tqdm"
   ]
  },
  {
   "cell_type": "code",
   "execution_count": 20,
   "metadata": {},
   "outputs": [],
   "source": [
    "import chromadb"
   ]
  },
  {
   "cell_type": "code",
   "execution_count": 21,
   "metadata": {},
   "outputs": [],
   "source": [
    "client = chromadb.PersistentClient(path=\"./chroma_db\")"
   ]
  },
  {
   "cell_type": "code",
   "execution_count": 22,
   "metadata": {},
   "outputs": [],
   "source": [
    "collection = client.create_collection(name=\"passages\")"
   ]
  },
  {
   "cell_type": "code",
   "execution_count": 23,
   "metadata": {},
   "outputs": [],
   "source": [
    "passages = []\n",
    "tokenized_passages = []\n",
    "\n",
    "for split in [\"train\", \"validation\", \"test\"]:\n",
    "    passages.extend([example[\"passage\"] for example in dataset_processed[split]])\n",
    "    tokenized_passages.extend(tokenized_dataset[split])"
   ]
  },
  {
   "cell_type": "code",
   "execution_count": 24,
   "metadata": {},
   "outputs": [
    {
     "name": "stderr",
     "output_type": "stream",
     "text": [
      "Processing batches: 100%|██████████| 6545/6545 [2:28:21<00:00,  1.36s/it]  "
     ]
    },
    {
     "name": "stdout",
     "output_type": "stream",
     "text": [
      "База даних створена з 837729 пасажів у колекції 'passages'\n"
     ]
    },
    {
     "name": "stderr",
     "output_type": "stream",
     "text": [
      "\n"
     ]
    }
   ],
   "source": [
    "total_batches = (len(tokenized_passages) + BATCH_SIZE - 1) // BATCH_SIZE\n",
    "\n",
    "for i in tqdm(range(0, len(tokenized_passages), BATCH_SIZE), total=total_batches, desc=\"Processing batches\"):\n",
    "    batch_tokenized = tokenized_passages[i:i + BATCH_SIZE]\n",
    "\n",
    "    input_ids = tf.convert_to_tensor([example[\"passage_input_ids\"] for example in batch_tokenized])\n",
    "    attention_mask = tf.convert_to_tensor([example[\"passage_attention_mask\"] for example in batch_tokenized])\n",
    "    \n",
    "    passage_embeddings = loaded_model.get_passage_embedding(\n",
    "        input_ids=input_ids,\n",
    "        attention_mask=attention_mask\n",
    "    )\n",
    "    \n",
    "    embeddings_list = passage_embeddings.numpy().tolist()\n",
    "    batch_passages = passages[i:i + BATCH_SIZE]\n",
    "    ids = [f\"passage_{j}\" for j in range(i, i + len(batch_passages))]\n",
    "    \n",
    "    collection.add(\n",
    "        embeddings=embeddings_list,\n",
    "        documents=batch_passages,\n",
    "        ids=ids\n",
    "    )\n",
    "\n",
    "print(f\"База даних створена з {len(passages)} пасажів у колекції 'passages'\")"
   ]
  }
 ],
 "metadata": {
  "kernelspec": {
   "display_name": "base",
   "language": "python",
   "name": "python3"
  },
  "language_info": {
   "codemirror_mode": {
    "name": "ipython",
    "version": 3
   },
   "file_extension": ".py",
   "mimetype": "text/x-python",
   "name": "python",
   "nbconvert_exporter": "python",
   "pygments_lexer": "ipython3",
   "version": "3.12.8"
  }
 },
 "nbformat": 4,
 "nbformat_minor": 2
}
