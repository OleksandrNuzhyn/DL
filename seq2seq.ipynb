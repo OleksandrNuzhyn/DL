{
 "cells": [
  {
   "cell_type": "code",
   "execution_count": 1,
   "metadata": {},
   "outputs": [],
   "source": [
    "import json"
   ]
  },
  {
   "cell_type": "code",
   "execution_count": 2,
   "metadata": {},
   "outputs": [],
   "source": [
    "with open(\"dev-v1.1.json\", \"r\", encoding=\"utf-8\") as file:\n",
    "    squad_data = json.load(file)"
   ]
  },
  {
   "cell_type": "code",
   "execution_count": 3,
   "metadata": {},
   "outputs": [
    {
     "data": {
      "text/plain": [
       "dict_keys(['data', 'version'])"
      ]
     },
     "execution_count": 3,
     "metadata": {},
     "output_type": "execute_result"
    }
   ],
   "source": [
    "squad_data.keys()"
   ]
  },
  {
   "cell_type": "code",
   "execution_count": 4,
   "metadata": {},
   "outputs": [],
   "source": [
    "def print_json_structure(data, indent=0):\n",
    "    prefix = \" \" * indent\n",
    "    if isinstance(data, dict):\n",
    "        for key, value in data.items():\n",
    "            print(f\"{prefix}- {key}: {type(value).__name__}\")\n",
    "            print_json_structure(value, indent + 2)\n",
    "    elif isinstance(data, list):\n",
    "        print_json_structure(data[0], indent + 2)"
   ]
  },
  {
   "cell_type": "code",
   "execution_count": 5,
   "metadata": {},
   "outputs": [
    {
     "name": "stdout",
     "output_type": "stream",
     "text": [
      "- data: list\n",
      "    - title: str\n",
      "    - paragraphs: list\n",
      "        - context: str\n",
      "        - qas: list\n",
      "            - answers: list\n",
      "                - answer_start: int\n",
      "                - text: str\n",
      "            - question: str\n",
      "            - id: str\n",
      "- version: str\n"
     ]
    }
   ],
   "source": [
    "print_json_structure(squad_data)"
   ]
  },
  {
   "cell_type": "code",
   "execution_count": 6,
   "metadata": {},
   "outputs": [],
   "source": [
    "import random"
   ]
  },
  {
   "cell_type": "code",
   "execution_count": 7,
   "metadata": {},
   "outputs": [],
   "source": [
    "input_data = []\n",
    "output_data = []"
   ]
  },
  {
   "cell_type": "code",
   "execution_count": 8,
   "metadata": {},
   "outputs": [],
   "source": [
    "for entry in squad_data['data']:\n",
    "    for paragraph in entry['paragraphs']:\n",
    "        context = paragraph['context']\n",
    "        for qa in paragraph['qas']:\n",
    "            question = qa['question']\n",
    "            answer_text = random.choice(qa['answers'])['text']\n",
    "            \n",
    "            input_data.append(context + \" \" + question)\n",
    "            output_data.append(answer_text)"
   ]
  },
  {
   "cell_type": "code",
   "execution_count": 9,
   "metadata": {},
   "outputs": [
    {
     "data": {
      "text/plain": [
       "['Super Bowl 50 was an American football game to determine the champion of the National Football League (NFL) for the 2015 season. The American Football Conference (AFC) champion Denver Broncos defeated the National Football Conference (NFC) champion Carolina Panthers 24–10 to earn their third Super Bowl title. The game was played on February 7, 2016, at Levi\\'s Stadium in the San Francisco Bay Area at Santa Clara, California. As this was the 50th Super Bowl, the league emphasized the \"golden anniversary\" with various gold-themed initiatives, as well as temporarily suspending the tradition of naming each Super Bowl game with Roman numerals (under which the game would have been known as \"Super Bowl L\"), so that the logo could prominently feature the Arabic numerals 50. Which NFL team represented the AFC at Super Bowl 50?',\n",
       " 'Super Bowl 50 was an American football game to determine the champion of the National Football League (NFL) for the 2015 season. The American Football Conference (AFC) champion Denver Broncos defeated the National Football Conference (NFC) champion Carolina Panthers 24–10 to earn their third Super Bowl title. The game was played on February 7, 2016, at Levi\\'s Stadium in the San Francisco Bay Area at Santa Clara, California. As this was the 50th Super Bowl, the league emphasized the \"golden anniversary\" with various gold-themed initiatives, as well as temporarily suspending the tradition of naming each Super Bowl game with Roman numerals (under which the game would have been known as \"Super Bowl L\"), so that the logo could prominently feature the Arabic numerals 50. Which NFL team represented the NFC at Super Bowl 50?',\n",
       " 'Super Bowl 50 was an American football game to determine the champion of the National Football League (NFL) for the 2015 season. The American Football Conference (AFC) champion Denver Broncos defeated the National Football Conference (NFC) champion Carolina Panthers 24–10 to earn their third Super Bowl title. The game was played on February 7, 2016, at Levi\\'s Stadium in the San Francisco Bay Area at Santa Clara, California. As this was the 50th Super Bowl, the league emphasized the \"golden anniversary\" with various gold-themed initiatives, as well as temporarily suspending the tradition of naming each Super Bowl game with Roman numerals (under which the game would have been known as \"Super Bowl L\"), so that the logo could prominently feature the Arabic numerals 50. Where did Super Bowl 50 take place?',\n",
       " 'Super Bowl 50 was an American football game to determine the champion of the National Football League (NFL) for the 2015 season. The American Football Conference (AFC) champion Denver Broncos defeated the National Football Conference (NFC) champion Carolina Panthers 24–10 to earn their third Super Bowl title. The game was played on February 7, 2016, at Levi\\'s Stadium in the San Francisco Bay Area at Santa Clara, California. As this was the 50th Super Bowl, the league emphasized the \"golden anniversary\" with various gold-themed initiatives, as well as temporarily suspending the tradition of naming each Super Bowl game with Roman numerals (under which the game would have been known as \"Super Bowl L\"), so that the logo could prominently feature the Arabic numerals 50. Which NFL team won Super Bowl 50?',\n",
       " 'Super Bowl 50 was an American football game to determine the champion of the National Football League (NFL) for the 2015 season. The American Football Conference (AFC) champion Denver Broncos defeated the National Football Conference (NFC) champion Carolina Panthers 24–10 to earn their third Super Bowl title. The game was played on February 7, 2016, at Levi\\'s Stadium in the San Francisco Bay Area at Santa Clara, California. As this was the 50th Super Bowl, the league emphasized the \"golden anniversary\" with various gold-themed initiatives, as well as temporarily suspending the tradition of naming each Super Bowl game with Roman numerals (under which the game would have been known as \"Super Bowl L\"), so that the logo could prominently feature the Arabic numerals 50. What color was used to emphasize the 50th anniversary of the Super Bowl?']"
      ]
     },
     "execution_count": 9,
     "metadata": {},
     "output_type": "execute_result"
    }
   ],
   "source": [
    "input_data[:5]"
   ]
  },
  {
   "cell_type": "code",
   "execution_count": 10,
   "metadata": {},
   "outputs": [
    {
     "data": {
      "text/plain": [
       "['Denver Broncos',\n",
       " 'Carolina Panthers',\n",
       " \"Levi's Stadium\",\n",
       " 'Denver Broncos',\n",
       " 'gold']"
      ]
     },
     "execution_count": 10,
     "metadata": {},
     "output_type": "execute_result"
    }
   ],
   "source": [
    "output_data[:5]"
   ]
  },
  {
   "cell_type": "code",
   "execution_count": 11,
   "metadata": {},
   "outputs": [],
   "source": [
    "import gensim.downloader as api"
   ]
  },
  {
   "cell_type": "code",
   "execution_count": 12,
   "metadata": {},
   "outputs": [],
   "source": [
    "word2vec = api.load(\"word2vec-google-news-300\")"
   ]
  },
  {
   "cell_type": "code",
   "execution_count": 13,
   "metadata": {},
   "outputs": [
    {
     "data": {
      "text/plain": [
       "169"
      ]
     },
     "execution_count": 13,
     "metadata": {},
     "output_type": "execute_result"
    }
   ],
   "source": [
    "word2vec.key_to_index[\"And\"]"
   ]
  },
  {
   "cell_type": "code",
   "execution_count": 15,
   "metadata": {},
   "outputs": [],
   "source": [
    "import tensorflow as tf"
   ]
  },
  {
   "cell_type": "code",
   "execution_count": 16,
   "metadata": {},
   "outputs": [],
   "source": [
    "import numpy as np"
   ]
  },
  {
   "cell_type": "code",
   "execution_count": 17,
   "metadata": {},
   "outputs": [
    {
     "data": {
      "text/plain": [
       "('Super Bowl 50 was an American football game to determine the champion of the National Football League (NFL) for the 2015 season. The American Football Conference (AFC) champion Denver Broncos defeated the National Football Conference (NFC) champion Carolina Panthers 24–10 to earn their third Super Bowl title. The game was played on February 7, 2016, at Levi\\'s Stadium in the San Francisco Bay Area at Santa Clara, California. As this was the 50th Super Bowl, the league emphasized the \"golden anniversary\" with various gold-themed initiatives, as well as temporarily suspending the tradition of naming each Super Bowl game with Roman numerals (under which the game would have been known as \"Super Bowl L\"), so that the logo could prominently feature the Arabic numerals 50. Which NFL team represented the AFC at Super Bowl 50?',\n",
       " '<start> Denver Broncos <end>',\n",
       " 'Denver Broncos <end>')"
      ]
     },
     "execution_count": 17,
     "metadata": {},
     "output_type": "execute_result"
    }
   ],
   "source": [
    "encoder_inputs = input_data\n",
    "\n",
    "start_token = \"<start>\"\n",
    "end_token = \"<end>\"\n",
    "\n",
    "decoder_inputs = [f\"{start_token} {seq} {end_token}\" for seq in output_data]\n",
    "decoder_outputs = [f\"{seq} {end_token}\" for seq in output_data]\n",
    "\n",
    "encoder_inputs[0], decoder_inputs[0], decoder_outputs[0]"
   ]
  },
  {
   "cell_type": "code",
   "execution_count": 18,
   "metadata": {},
   "outputs": [],
   "source": [
    "max_len = max(max([len(seq.split()) for seq in input_data]), max([len(seq.split()) for seq in output_data]))"
   ]
  },
  {
   "cell_type": "code",
   "execution_count": 21,
   "metadata": {},
   "outputs": [],
   "source": [
    "text_vectorizer = tf.keras.layers.TextVectorization(\n",
    "    max_tokens=15000,\n",
    "    output_mode=\"int\",\n",
    "    standardize=lambda x: tf.strings.regex_replace(x, '[^ a-zA-Z0-9<>\\']', ''),\n",
    "    output_sequence_length=max_len,\n",
    "    split=\"whitespace\",\n",
    "    pad_to_max_tokens=True\n",
    ")"
   ]
  },
  {
   "cell_type": "code",
   "execution_count": 22,
   "metadata": {},
   "outputs": [],
   "source": [
    "text_vectorizer.adapt(encoder_inputs + decoder_inputs)"
   ]
  },
  {
   "cell_type": "code",
   "execution_count": 23,
   "metadata": {},
   "outputs": [],
   "source": [
    "vocabulary = text_vectorizer.get_vocabulary()"
   ]
  },
  {
   "cell_type": "code",
   "execution_count": 24,
   "metadata": {},
   "outputs": [
    {
     "data": {
      "text/plain": [
       "(15000,\n",
       " ['', '[UNK]', 'the', 'of', 'and'],\n",
       " ['suspect', 'supplemented', 'successes', 'studentteacher', 'stature'],\n",
       " 14,\n",
       " 15)"
      ]
     },
     "execution_count": 24,
     "metadata": {},
     "output_type": "execute_result"
    }
   ],
   "source": [
    "len(vocabulary), vocabulary[:5], vocabulary[14995:], vocabulary.index(\"<start>\"), vocabulary.index(\"<end>\")"
   ]
  },
  {
   "cell_type": "code",
   "execution_count": 25,
   "metadata": {},
   "outputs": [
    {
     "data": {
      "text/plain": [
       "(TensorShape([651]),\n",
       " <tf.Tensor: shape=(140,), dtype=int64, numpy=\n",
       " array([  56,   49,  229,    9,   25,  180, 1798,  162,    6, 1370,    2,\n",
       "        1285,    3,    2,  292, 1002, 1272,  370,   13,    2,  713,  183,\n",
       "          10,  180, 1002,  615, 1211, 1285,  480,  284,  899,    2,  292,\n",
       "        1002,  615, 1079, 1285,  453,  277, 3834,    6, 1922,   33,  304,\n",
       "          56,   49,  809,   10,  162,    9,  640,   18,  574,  533, 1133,\n",
       "          24, 1405,  882,    5,    2,  197,  770,  874, 1308,   24, 1262,\n",
       "        2239,  256,  176,   38,    9,    2, 1635,   56,   49,    2,  866,\n",
       "        3867,    2, 4641, 1624,   17,  235, 4366, 2894,   11,  111,   11,\n",
       "        2427, 5451,    2, 1411,    3, 3859,  132,   56,   49,  162,   17,\n",
       "         392, 1347,  125,   21,    2,  162,   59,   31,   51,   80,   11,\n",
       "          56,   49, 1591,  178,   12,    2,  681,  121, 4940,  986,    2,\n",
       "        2919, 1347,  229,  323,  370,  225,  735,    2, 1211,   24,   56,\n",
       "          49,  229,    0,    0,    0,    0,    0,    0])>)"
      ]
     },
     "execution_count": 25,
     "metadata": {},
     "output_type": "execute_result"
    }
   ],
   "source": [
    "text_vectorizer(encoder_inputs[0]).shape, text_vectorizer(encoder_inputs[0])[:140]"
   ]
  },
  {
   "cell_type": "code",
   "execution_count": 26,
   "metadata": {},
   "outputs": [],
   "source": [
    "vocab_size = len(text_vectorizer.get_vocabulary())"
   ]
  },
  {
   "cell_type": "code",
   "execution_count": 27,
   "metadata": {},
   "outputs": [],
   "source": [
    "embedding_dim = 300\n",
    "unk_vector = np.random.uniform(-0.05, 0.05, 300)\n",
    "start_vector = np.random.uniform(-0.05, 0.05, embedding_dim)\n",
    "end_vector = np.random.uniform(-0.05, 0.05, embedding_dim)\n",
    "embedding_matrix = np.zeros((vocab_size, embedding_dim))\n",
    "not_found_words = []\n",
    "\n",
    "vocab = text_vectorizer.get_vocabulary()\n",
    "word_to_index = {word: idx for idx, word in enumerate(vocab)}\n",
    "\n",
    "for word, idx in word_to_index.items():\n",
    "    if word == '':\n",
    "        continue\n",
    "    elif word in word2vec:\n",
    "        embedding_matrix[idx] = word2vec[word]\n",
    "    elif word.capitalize() in word2vec:\n",
    "        embedding_matrix[idx] = word2vec[word.capitalize()]\n",
    "    elif word.lower() in word2vec:\n",
    "        embedding_matrix[idx] = word2vec[word.lower()]\n",
    "    elif word == \"<start>\":\n",
    "        not_found_words.append(idx)\n",
    "        embedding_matrix[idx] = start_vector\n",
    "    elif word == \"<end>\":\n",
    "        not_found_words.append(idx)\n",
    "        embedding_matrix[idx] = end_vector\n",
    "    else:\n",
    "        not_found_words.append(idx)\n",
    "        embedding_matrix[idx] = unk_vector"
   ]
  },
  {
   "cell_type": "code",
   "execution_count": 28,
   "metadata": {},
   "outputs": [
    {
     "data": {
      "text/plain": [
       "(1735, [1, 14, 15, 229, 272, 275, 385, 464, 477, 487])"
      ]
     },
     "execution_count": 28,
     "metadata": {},
     "output_type": "execute_result"
    }
   ],
   "source": [
    "len(not_found_words), not_found_words[:10]"
   ]
  },
  {
   "cell_type": "code",
   "execution_count": 29,
   "metadata": {},
   "outputs": [
    {
     "data": {
      "text/plain": [
       "(array([0., 0., 0.]),\n",
       " array([ 0.01292978, -0.0196126 ,  0.03690822]),\n",
       " array([ 0.01292978, -0.0196126 ,  0.03690822]),\n",
       " array([ 0.04439599, -0.03755883, -0.01799788]),\n",
       " array([ 0.04773822, -0.03918727, -0.02714973]))"
      ]
     },
     "execution_count": 29,
     "metadata": {},
     "output_type": "execute_result"
    }
   ],
   "source": [
    "embedding_matrix[0][:3], embedding_matrix[229][:3], embedding_matrix[272][:3], embedding_matrix[14][:3], embedding_matrix[15][:3]"
   ]
  },
  {
   "cell_type": "code",
   "execution_count": 30,
   "metadata": {},
   "outputs": [],
   "source": [
    "embedding_layer = tf.keras.layers.Embedding(\n",
    "    input_dim=vocab_size,\n",
    "    output_dim=embedding_dim,\n",
    "    weights=[embedding_matrix],\n",
    "    input_length=max_len,\n",
    "    mask_zero=True,\n",
    "    trainable=False\n",
    ")"
   ]
  },
  {
   "cell_type": "code",
   "execution_count": 31,
   "metadata": {},
   "outputs": [],
   "source": [
    "encoder_inputs_vec = text_vectorizer(encoder_inputs)\n",
    "decoder_inputs_vec = text_vectorizer(decoder_inputs)\n",
    "decoder_outputs_vec = text_vectorizer(decoder_outputs)"
   ]
  },
  {
   "cell_type": "code",
   "execution_count": 32,
   "metadata": {},
   "outputs": [],
   "source": [
    "from sklearn.model_selection import train_test_split"
   ]
  },
  {
   "cell_type": "code",
   "execution_count": 33,
   "metadata": {},
   "outputs": [
    {
     "data": {
      "text/plain": [
       "<tf.Tensor: shape=(10570, 651), dtype=int64, numpy=\n",
       "array([[ 56,  49, 229, ...,   0,   0,   0],\n",
       "       [ 56,  49, 229, ...,   0,   0,   0],\n",
       "       [ 56,  49, 229, ...,   0,   0,   0],\n",
       "       ...,\n",
       "       [ 10,   1,  35, ...,   0,   0,   0],\n",
       "       [ 10,   1,  35, ...,   0,   0,   0],\n",
       "       [ 10,   1,  35, ...,   0,   0,   0]])>"
      ]
     },
     "execution_count": 33,
     "metadata": {},
     "output_type": "execute_result"
    }
   ],
   "source": [
    "encoder_inputs_vec"
   ]
  },
  {
   "cell_type": "code",
   "execution_count": 34,
   "metadata": {},
   "outputs": [
    {
     "data": {
      "text/plain": [
       "((8456, 651), (1057, 651), (1057, 651))"
      ]
     },
     "execution_count": 34,
     "metadata": {},
     "output_type": "execute_result"
    }
   ],
   "source": [
    "encoder_inputs_vec = encoder_inputs_vec.numpy()\n",
    "decoder_inputs_vec = decoder_inputs_vec.numpy()\n",
    "decoder_outputs_vec = decoder_outputs_vec.numpy()\n",
    "\n",
    "encoder_input_train, encoder_input_val, decoder_input_train, decoder_input_val, decoder_output_train, decoder_output_val = train_test_split(\n",
    "    encoder_inputs_vec, decoder_inputs_vec, decoder_outputs_vec, test_size=0.2, random_state=42)\n",
    "\n",
    "encoder_input_val, encoder_input_test, decoder_input_val, decoder_input_test, decoder_output_val, decoder_output_test = train_test_split(\n",
    "    encoder_input_val, decoder_input_val, decoder_output_val, test_size=0.5, random_state=42)\n",
    "\n",
    "encoder_input_train.shape, encoder_input_val.shape, encoder_input_test.shape"
   ]
  },
  {
   "cell_type": "code",
   "execution_count": 35,
   "metadata": {},
   "outputs": [
    {
     "data": {
      "text/plain": [
       "(array([  10, 5358,    5,    2, 2453,  611]),\n",
       " array([  14,  304, 4084,  784,   15,    0]),\n",
       " array([ 304, 4084,  784,   15,    0,    0]))"
      ]
     },
     "execution_count": 35,
     "metadata": {},
     "output_type": "execute_result"
    }
   ],
   "source": [
    "encoder_input_train[0][:6], decoder_input_train[0][:6], decoder_output_train[0][:6]"
   ]
  },
  {
   "cell_type": "code",
   "execution_count": 38,
   "metadata": {},
   "outputs": [],
   "source": [
    "def masked_accuracy(y_true, y_pred):\n",
    "    mask = tf.cast(tf.not_equal(y_true, 0), tf.float32)\n",
    "    correct = tf.cast(tf.equal(y_true, tf.argmax(y_pred, axis=-1)), tf.float32)\n",
    "    return tf.reduce_sum(correct * mask) / tf.reduce_sum(mask)"
   ]
  },
  {
   "cell_type": "code",
   "execution_count": 40,
   "metadata": {},
   "outputs": [
    {
     "data": {
      "text/html": [
       "<pre style=\"white-space:pre;overflow-x:auto;line-height:normal;font-family:Menlo,'DejaVu Sans Mono',consolas,'Courier New',monospace\"><span style=\"font-weight: bold\">Model: \"functional_2\"</span>\n",
       "</pre>\n"
      ],
      "text/plain": [
       "\u001b[1mModel: \"functional_2\"\u001b[0m\n"
      ]
     },
     "metadata": {},
     "output_type": "display_data"
    },
    {
     "data": {
      "text/html": [
       "<pre style=\"white-space:pre;overflow-x:auto;line-height:normal;font-family:Menlo,'DejaVu Sans Mono',consolas,'Courier New',monospace\">┏━━━━━━━━━━━━━━━━━━━━━┳━━━━━━━━━━━━━━━━━━━┳━━━━━━━━━━━━┳━━━━━━━━━━━━━━━━━━━┓\n",
       "┃<span style=\"font-weight: bold\"> Layer (type)        </span>┃<span style=\"font-weight: bold\"> Output Shape      </span>┃<span style=\"font-weight: bold\">    Param # </span>┃<span style=\"font-weight: bold\"> Connected to      </span>┃\n",
       "┡━━━━━━━━━━━━━━━━━━━━━╇━━━━━━━━━━━━━━━━━━━╇━━━━━━━━━━━━╇━━━━━━━━━━━━━━━━━━━┩\n",
       "│ input_layer_5       │ (<span style=\"color: #00d7ff; text-decoration-color: #00d7ff\">None</span>, <span style=\"color: #00af00; text-decoration-color: #00af00\">651</span>)       │          <span style=\"color: #00af00; text-decoration-color: #00af00\">0</span> │ -                 │\n",
       "│ (<span style=\"color: #0087ff; text-decoration-color: #0087ff\">InputLayer</span>)        │                   │            │                   │\n",
       "├─────────────────────┼───────────────────┼────────────┼───────────────────┤\n",
       "│ input_layer_4       │ (<span style=\"color: #00d7ff; text-decoration-color: #00d7ff\">None</span>, <span style=\"color: #00af00; text-decoration-color: #00af00\">651</span>)       │          <span style=\"color: #00af00; text-decoration-color: #00af00\">0</span> │ -                 │\n",
       "│ (<span style=\"color: #0087ff; text-decoration-color: #0087ff\">InputLayer</span>)        │                   │            │                   │\n",
       "├─────────────────────┼───────────────────┼────────────┼───────────────────┤\n",
       "│ embedding           │ (<span style=\"color: #00d7ff; text-decoration-color: #00d7ff\">None</span>, <span style=\"color: #00af00; text-decoration-color: #00af00\">651</span>, <span style=\"color: #00af00; text-decoration-color: #00af00\">300</span>)  │  <span style=\"color: #00af00; text-decoration-color: #00af00\">4,500,000</span> │ input_layer_4[<span style=\"color: #00af00; text-decoration-color: #00af00\">0</span>]… │\n",
       "│ (<span style=\"color: #0087ff; text-decoration-color: #0087ff\">Embedding</span>)         │                   │            │ input_layer_5[<span style=\"color: #00af00; text-decoration-color: #00af00\">0</span>]… │\n",
       "├─────────────────────┼───────────────────┼────────────┼───────────────────┤\n",
       "│ not_equal_9         │ (<span style=\"color: #00d7ff; text-decoration-color: #00d7ff\">None</span>, <span style=\"color: #00af00; text-decoration-color: #00af00\">651</span>, <span style=\"color: #00af00; text-decoration-color: #00af00\">300</span>)  │          <span style=\"color: #00af00; text-decoration-color: #00af00\">0</span> │ embedding[<span style=\"color: #00af00; text-decoration-color: #00af00\">4</span>][<span style=\"color: #00af00; text-decoration-color: #00af00\">0</span>]   │\n",
       "│ (<span style=\"color: #0087ff; text-decoration-color: #0087ff\">NotEqual</span>)          │                   │            │                   │\n",
       "├─────────────────────┼───────────────────┼────────────┼───────────────────┤\n",
       "│ masking_4 (<span style=\"color: #0087ff; text-decoration-color: #0087ff\">Masking</span>) │ (<span style=\"color: #00d7ff; text-decoration-color: #00d7ff\">None</span>, <span style=\"color: #00af00; text-decoration-color: #00af00\">651</span>, <span style=\"color: #00af00; text-decoration-color: #00af00\">300</span>)  │          <span style=\"color: #00af00; text-decoration-color: #00af00\">0</span> │ embedding[<span style=\"color: #00af00; text-decoration-color: #00af00\">4</span>][<span style=\"color: #00af00; text-decoration-color: #00af00\">0</span>]   │\n",
       "├─────────────────────┼───────────────────┼────────────┼───────────────────┤\n",
       "│ any_4 (<span style=\"color: #0087ff; text-decoration-color: #0087ff\">Any</span>)         │ (<span style=\"color: #00d7ff; text-decoration-color: #00d7ff\">None</span>, <span style=\"color: #00af00; text-decoration-color: #00af00\">651</span>)       │          <span style=\"color: #00af00; text-decoration-color: #00af00\">0</span> │ not_equal_9[<span style=\"color: #00af00; text-decoration-color: #00af00\">0</span>][<span style=\"color: #00af00; text-decoration-color: #00af00\">0</span>] │\n",
       "├─────────────────────┼───────────────────┼────────────┼───────────────────┤\n",
       "│ masking_5 (<span style=\"color: #0087ff; text-decoration-color: #0087ff\">Masking</span>) │ (<span style=\"color: #00d7ff; text-decoration-color: #00d7ff\">None</span>, <span style=\"color: #00af00; text-decoration-color: #00af00\">651</span>, <span style=\"color: #00af00; text-decoration-color: #00af00\">300</span>)  │          <span style=\"color: #00af00; text-decoration-color: #00af00\">0</span> │ embedding[<span style=\"color: #00af00; text-decoration-color: #00af00\">5</span>][<span style=\"color: #00af00; text-decoration-color: #00af00\">0</span>]   │\n",
       "├─────────────────────┼───────────────────┼────────────┼───────────────────┤\n",
       "│ lstm_4 (<span style=\"color: #0087ff; text-decoration-color: #0087ff\">LSTM</span>)       │ [(<span style=\"color: #00d7ff; text-decoration-color: #00d7ff\">None</span>, <span style=\"color: #00af00; text-decoration-color: #00af00\">512</span>),     │  <span style=\"color: #00af00; text-decoration-color: #00af00\">1,665,024</span> │ masking_4[<span style=\"color: #00af00; text-decoration-color: #00af00\">0</span>][<span style=\"color: #00af00; text-decoration-color: #00af00\">0</span>],  │\n",
       "│                     │ (<span style=\"color: #00d7ff; text-decoration-color: #00d7ff\">None</span>, <span style=\"color: #00af00; text-decoration-color: #00af00\">512</span>),      │            │ any_4[<span style=\"color: #00af00; text-decoration-color: #00af00\">0</span>][<span style=\"color: #00af00; text-decoration-color: #00af00\">0</span>]       │\n",
       "│                     │ (<span style=\"color: #00d7ff; text-decoration-color: #00d7ff\">None</span>, <span style=\"color: #00af00; text-decoration-color: #00af00\">512</span>)]      │            │                   │\n",
       "├─────────────────────┼───────────────────┼────────────┼───────────────────┤\n",
       "│ lstm_5 (<span style=\"color: #0087ff; text-decoration-color: #0087ff\">LSTM</span>)       │ [(<span style=\"color: #00d7ff; text-decoration-color: #00d7ff\">None</span>, <span style=\"color: #00af00; text-decoration-color: #00af00\">651</span>,      │  <span style=\"color: #00af00; text-decoration-color: #00af00\">1,665,024</span> │ masking_5[<span style=\"color: #00af00; text-decoration-color: #00af00\">0</span>][<span style=\"color: #00af00; text-decoration-color: #00af00\">0</span>],  │\n",
       "│                     │ <span style=\"color: #00af00; text-decoration-color: #00af00\">512</span>), (<span style=\"color: #00d7ff; text-decoration-color: #00d7ff\">None</span>,      │            │ lstm_4[<span style=\"color: #00af00; text-decoration-color: #00af00\">0</span>][<span style=\"color: #00af00; text-decoration-color: #00af00\">1</span>],     │\n",
       "│                     │ <span style=\"color: #00af00; text-decoration-color: #00af00\">512</span>), (<span style=\"color: #00d7ff; text-decoration-color: #00d7ff\">None</span>,      │            │ lstm_4[<span style=\"color: #00af00; text-decoration-color: #00af00\">0</span>][<span style=\"color: #00af00; text-decoration-color: #00af00\">2</span>]      │\n",
       "│                     │ <span style=\"color: #00af00; text-decoration-color: #00af00\">512</span>)]             │            │                   │\n",
       "├─────────────────────┼───────────────────┼────────────┼───────────────────┤\n",
       "│ dense_2 (<span style=\"color: #0087ff; text-decoration-color: #0087ff\">Dense</span>)     │ (<span style=\"color: #00d7ff; text-decoration-color: #00d7ff\">None</span>, <span style=\"color: #00af00; text-decoration-color: #00af00\">651</span>,       │  <span style=\"color: #00af00; text-decoration-color: #00af00\">7,695,000</span> │ lstm_5[<span style=\"color: #00af00; text-decoration-color: #00af00\">0</span>][<span style=\"color: #00af00; text-decoration-color: #00af00\">0</span>]      │\n",
       "│                     │ <span style=\"color: #00af00; text-decoration-color: #00af00\">15000</span>)            │            │                   │\n",
       "└─────────────────────┴───────────────────┴────────────┴───────────────────┘\n",
       "</pre>\n"
      ],
      "text/plain": [
       "┏━━━━━━━━━━━━━━━━━━━━━┳━━━━━━━━━━━━━━━━━━━┳━━━━━━━━━━━━┳━━━━━━━━━━━━━━━━━━━┓\n",
       "┃\u001b[1m \u001b[0m\u001b[1mLayer (type)       \u001b[0m\u001b[1m \u001b[0m┃\u001b[1m \u001b[0m\u001b[1mOutput Shape     \u001b[0m\u001b[1m \u001b[0m┃\u001b[1m \u001b[0m\u001b[1m   Param #\u001b[0m\u001b[1m \u001b[0m┃\u001b[1m \u001b[0m\u001b[1mConnected to     \u001b[0m\u001b[1m \u001b[0m┃\n",
       "┡━━━━━━━━━━━━━━━━━━━━━╇━━━━━━━━━━━━━━━━━━━╇━━━━━━━━━━━━╇━━━━━━━━━━━━━━━━━━━┩\n",
       "│ input_layer_5       │ (\u001b[38;5;45mNone\u001b[0m, \u001b[38;5;34m651\u001b[0m)       │          \u001b[38;5;34m0\u001b[0m │ -                 │\n",
       "│ (\u001b[38;5;33mInputLayer\u001b[0m)        │                   │            │                   │\n",
       "├─────────────────────┼───────────────────┼────────────┼───────────────────┤\n",
       "│ input_layer_4       │ (\u001b[38;5;45mNone\u001b[0m, \u001b[38;5;34m651\u001b[0m)       │          \u001b[38;5;34m0\u001b[0m │ -                 │\n",
       "│ (\u001b[38;5;33mInputLayer\u001b[0m)        │                   │            │                   │\n",
       "├─────────────────────┼───────────────────┼────────────┼───────────────────┤\n",
       "│ embedding           │ (\u001b[38;5;45mNone\u001b[0m, \u001b[38;5;34m651\u001b[0m, \u001b[38;5;34m300\u001b[0m)  │  \u001b[38;5;34m4,500,000\u001b[0m │ input_layer_4[\u001b[38;5;34m0\u001b[0m]… │\n",
       "│ (\u001b[38;5;33mEmbedding\u001b[0m)         │                   │            │ input_layer_5[\u001b[38;5;34m0\u001b[0m]… │\n",
       "├─────────────────────┼───────────────────┼────────────┼───────────────────┤\n",
       "│ not_equal_9         │ (\u001b[38;5;45mNone\u001b[0m, \u001b[38;5;34m651\u001b[0m, \u001b[38;5;34m300\u001b[0m)  │          \u001b[38;5;34m0\u001b[0m │ embedding[\u001b[38;5;34m4\u001b[0m][\u001b[38;5;34m0\u001b[0m]   │\n",
       "│ (\u001b[38;5;33mNotEqual\u001b[0m)          │                   │            │                   │\n",
       "├─────────────────────┼───────────────────┼────────────┼───────────────────┤\n",
       "│ masking_4 (\u001b[38;5;33mMasking\u001b[0m) │ (\u001b[38;5;45mNone\u001b[0m, \u001b[38;5;34m651\u001b[0m, \u001b[38;5;34m300\u001b[0m)  │          \u001b[38;5;34m0\u001b[0m │ embedding[\u001b[38;5;34m4\u001b[0m][\u001b[38;5;34m0\u001b[0m]   │\n",
       "├─────────────────────┼───────────────────┼────────────┼───────────────────┤\n",
       "│ any_4 (\u001b[38;5;33mAny\u001b[0m)         │ (\u001b[38;5;45mNone\u001b[0m, \u001b[38;5;34m651\u001b[0m)       │          \u001b[38;5;34m0\u001b[0m │ not_equal_9[\u001b[38;5;34m0\u001b[0m][\u001b[38;5;34m0\u001b[0m] │\n",
       "├─────────────────────┼───────────────────┼────────────┼───────────────────┤\n",
       "│ masking_5 (\u001b[38;5;33mMasking\u001b[0m) │ (\u001b[38;5;45mNone\u001b[0m, \u001b[38;5;34m651\u001b[0m, \u001b[38;5;34m300\u001b[0m)  │          \u001b[38;5;34m0\u001b[0m │ embedding[\u001b[38;5;34m5\u001b[0m][\u001b[38;5;34m0\u001b[0m]   │\n",
       "├─────────────────────┼───────────────────┼────────────┼───────────────────┤\n",
       "│ lstm_4 (\u001b[38;5;33mLSTM\u001b[0m)       │ [(\u001b[38;5;45mNone\u001b[0m, \u001b[38;5;34m512\u001b[0m),     │  \u001b[38;5;34m1,665,024\u001b[0m │ masking_4[\u001b[38;5;34m0\u001b[0m][\u001b[38;5;34m0\u001b[0m],  │\n",
       "│                     │ (\u001b[38;5;45mNone\u001b[0m, \u001b[38;5;34m512\u001b[0m),      │            │ any_4[\u001b[38;5;34m0\u001b[0m][\u001b[38;5;34m0\u001b[0m]       │\n",
       "│                     │ (\u001b[38;5;45mNone\u001b[0m, \u001b[38;5;34m512\u001b[0m)]      │            │                   │\n",
       "├─────────────────────┼───────────────────┼────────────┼───────────────────┤\n",
       "│ lstm_5 (\u001b[38;5;33mLSTM\u001b[0m)       │ [(\u001b[38;5;45mNone\u001b[0m, \u001b[38;5;34m651\u001b[0m,      │  \u001b[38;5;34m1,665,024\u001b[0m │ masking_5[\u001b[38;5;34m0\u001b[0m][\u001b[38;5;34m0\u001b[0m],  │\n",
       "│                     │ \u001b[38;5;34m512\u001b[0m), (\u001b[38;5;45mNone\u001b[0m,      │            │ lstm_4[\u001b[38;5;34m0\u001b[0m][\u001b[38;5;34m1\u001b[0m],     │\n",
       "│                     │ \u001b[38;5;34m512\u001b[0m), (\u001b[38;5;45mNone\u001b[0m,      │            │ lstm_4[\u001b[38;5;34m0\u001b[0m][\u001b[38;5;34m2\u001b[0m]      │\n",
       "│                     │ \u001b[38;5;34m512\u001b[0m)]             │            │                   │\n",
       "├─────────────────────┼───────────────────┼────────────┼───────────────────┤\n",
       "│ dense_2 (\u001b[38;5;33mDense\u001b[0m)     │ (\u001b[38;5;45mNone\u001b[0m, \u001b[38;5;34m651\u001b[0m,       │  \u001b[38;5;34m7,695,000\u001b[0m │ lstm_5[\u001b[38;5;34m0\u001b[0m][\u001b[38;5;34m0\u001b[0m]      │\n",
       "│                     │ \u001b[38;5;34m15000\u001b[0m)            │            │                   │\n",
       "└─────────────────────┴───────────────────┴────────────┴───────────────────┘\n"
      ]
     },
     "metadata": {},
     "output_type": "display_data"
    },
    {
     "data": {
      "text/html": [
       "<pre style=\"white-space:pre;overflow-x:auto;line-height:normal;font-family:Menlo,'DejaVu Sans Mono',consolas,'Courier New',monospace\"><span style=\"font-weight: bold\"> Total params: </span><span style=\"color: #00af00; text-decoration-color: #00af00\">15,525,048</span> (59.22 MB)\n",
       "</pre>\n"
      ],
      "text/plain": [
       "\u001b[1m Total params: \u001b[0m\u001b[38;5;34m15,525,048\u001b[0m (59.22 MB)\n"
      ]
     },
     "metadata": {},
     "output_type": "display_data"
    },
    {
     "data": {
      "text/html": [
       "<pre style=\"white-space:pre;overflow-x:auto;line-height:normal;font-family:Menlo,'DejaVu Sans Mono',consolas,'Courier New',monospace\"><span style=\"font-weight: bold\"> Trainable params: </span><span style=\"color: #00af00; text-decoration-color: #00af00\">11,025,048</span> (42.06 MB)\n",
       "</pre>\n"
      ],
      "text/plain": [
       "\u001b[1m Trainable params: \u001b[0m\u001b[38;5;34m11,025,048\u001b[0m (42.06 MB)\n"
      ]
     },
     "metadata": {},
     "output_type": "display_data"
    },
    {
     "data": {
      "text/html": [
       "<pre style=\"white-space:pre;overflow-x:auto;line-height:normal;font-family:Menlo,'DejaVu Sans Mono',consolas,'Courier New',monospace\"><span style=\"font-weight: bold\"> Non-trainable params: </span><span style=\"color: #00af00; text-decoration-color: #00af00\">4,500,000</span> (17.17 MB)\n",
       "</pre>\n"
      ],
      "text/plain": [
       "\u001b[1m Non-trainable params: \u001b[0m\u001b[38;5;34m4,500,000\u001b[0m (17.17 MB)\n"
      ]
     },
     "metadata": {},
     "output_type": "display_data"
    },
    {
     "name": "stdout",
     "output_type": "stream",
     "text": [
      "Epoch 1/5\n",
      "\u001b[1m529/529\u001b[0m \u001b[32m━━━━━━━━━━━━━━━━━━━━\u001b[0m\u001b[37m\u001b[0m \u001b[1m86s\u001b[0m 161ms/step - loss: 5.7282 - masked_accuracy: 0.2186 - val_loss: 4.8127 - val_masked_accuracy: 0.3116\n",
      "Epoch 2/5\n",
      "\u001b[1m529/529\u001b[0m \u001b[32m━━━━━━━━━━━━━━━━━━━━\u001b[0m\u001b[37m\u001b[0m \u001b[1m85s\u001b[0m 161ms/step - loss: 4.4400 - masked_accuracy: 0.3153 - val_loss: 4.8183 - val_masked_accuracy: 0.3200\n",
      "Epoch 3/5\n",
      "\u001b[1m529/529\u001b[0m \u001b[32m━━━━━━━━━━━━━━━━━━━━\u001b[0m\u001b[37m\u001b[0m \u001b[1m86s\u001b[0m 163ms/step - loss: 4.2001 - masked_accuracy: 0.3239 - val_loss: 4.7906 - val_masked_accuracy: 0.3260\n",
      "Epoch 4/5\n",
      "\u001b[1m529/529\u001b[0m \u001b[32m━━━━━━━━━━━━━━━━━━━━\u001b[0m\u001b[37m\u001b[0m \u001b[1m104s\u001b[0m 197ms/step - loss: 3.9787 - masked_accuracy: 0.3306 - val_loss: 4.7950 - val_masked_accuracy: 0.3283\n",
      "Epoch 5/5\n",
      "\u001b[1m529/529\u001b[0m \u001b[32m━━━━━━━━━━━━━━━━━━━━\u001b[0m\u001b[37m\u001b[0m \u001b[1m134s\u001b[0m 254ms/step - loss: 3.8127 - masked_accuracy: 0.3283 - val_loss: 4.7927 - val_masked_accuracy: 0.3313\n"
     ]
    },
    {
     "data": {
      "text/plain": [
       "<keras.src.callbacks.history.History at 0x7fc2a447c9b0>"
      ]
     },
     "execution_count": 40,
     "metadata": {},
     "output_type": "execute_result"
    }
   ],
   "source": [
    "# Encoder\n",
    "encoder_input = tf.keras.layers.Input(shape=(max_len,))\n",
    "encoder_embedding = embedding_layer(encoder_input)\n",
    "encoder_masking = tf.keras.layers.Masking(mask_value=0)(encoder_embedding)\n",
    "_, forward_h, forward_c = tf.keras.layers.LSTM(512, return_state=True)(encoder_masking)\n",
    "encoder_states = [forward_h, forward_c]\n",
    "\n",
    "# Decoder\n",
    "decoder_input = tf.keras.layers.Input(shape=(max_len,))\n",
    "decoder_embedding = embedding_layer(decoder_input)\n",
    "decoder_masking = tf.keras.layers.Masking(mask_value=0)(decoder_embedding)\n",
    "decoder_vectors, _, _ = tf.keras.layers.LSTM(512, return_sequences=True, return_state=True)(decoder_masking, initial_state=encoder_states)\n",
    "decoder_output = tf.keras.layers.Dense(vocab_size, activation=\"softmax\")(decoder_vectors)\n",
    "\n",
    "model = tf.keras.Model([encoder_input, decoder_input], decoder_output)\n",
    "\n",
    "model.compile(optimizer=\"adam\", loss=\"sparse_categorical_crossentropy\", metrics=[masked_accuracy])\n",
    "\n",
    "model.summary()\n",
    "\n",
    "model.fit([encoder_input_train, decoder_input_train], decoder_output_train, validation_data=([encoder_input_val, decoder_input_val], decoder_output_val), epochs=5, batch_size=16)"
   ]
  },
  {
   "cell_type": "code",
   "execution_count": 41,
   "metadata": {},
   "outputs": [
    {
     "name": "stdout",
     "output_type": "stream",
     "text": [
      "\u001b[1m67/67\u001b[0m \u001b[32m━━━━━━━━━━━━━━━━━━━━\u001b[0m\u001b[37m\u001b[0m \u001b[1m6s\u001b[0m 83ms/step - loss: 4.6726 - masked_accuracy: 0.3316\n"
     ]
    },
    {
     "data": {
      "text/plain": [
       "[4.717677593231201, 0.3264451026916504]"
      ]
     },
     "execution_count": 41,
     "metadata": {},
     "output_type": "execute_result"
    }
   ],
   "source": [
    "model.evaluate([encoder_input_test, decoder_input_test], decoder_output_test, batch_size=16)"
   ]
  },
  {
   "cell_type": "code",
   "execution_count": 42,
   "metadata": {},
   "outputs": [],
   "source": [
    "model.save(\"seq2seq_model.keras\")"
   ]
  },
  {
   "cell_type": "code",
   "execution_count": 39,
   "metadata": {},
   "outputs": [],
   "source": [
    "custom_objects = {\n",
    "    'masked_accuracy':masked_accuracy\n",
    "}"
   ]
  },
  {
   "cell_type": "code",
   "execution_count": 40,
   "metadata": {},
   "outputs": [],
   "source": [
    "model = tf.keras.models.load_model(\"seq2seq_model.keras\", custom_objects=custom_objects)"
   ]
  },
  {
   "cell_type": "code",
   "execution_count": 68,
   "metadata": {},
   "outputs": [],
   "source": [
    "def indices_to_text(predictions, text_vectorizer):\n",
    "    predictions = predictions.flatten()\n",
    "    vocab = text_vectorizer.get_vocabulary()\n",
    "    \n",
    "    words = []\n",
    "    for idx in predictions:\n",
    "        if idx == 0:\n",
    "            continue\n",
    "        if idx >= len(vocab):\n",
    "            continue\n",
    "        \n",
    "        word = vocab[idx]\n",
    "\n",
    "        if word in ['<start>', '<end>']:\n",
    "            continue\n",
    "            \n",
    "        words.append(word)\n",
    "    \n",
    "    return ' '.join(words)"
   ]
  },
  {
   "cell_type": "code",
   "execution_count": 48,
   "metadata": {},
   "outputs": [
    {
     "name": "stdout",
     "output_type": "stream",
     "text": [
      "\u001b[1m1/1\u001b[0m \u001b[32m━━━━━━━━━━━━━━━━━━━━\u001b[0m\u001b[37m\u001b[0m \u001b[1m0s\u001b[0m 126ms/step\n"
     ]
    }
   ],
   "source": [
    "predictions = model.predict([encoder_input_test[1:5], decoder_input_test[1:5]])"
   ]
  },
  {
   "cell_type": "code",
   "execution_count": 49,
   "metadata": {},
   "outputs": [],
   "source": [
    "predicted_indices = np.argmax(predictions, axis=-1)"
   ]
  },
  {
   "cell_type": "code",
   "execution_count": 46,
   "metadata": {},
   "outputs": [
    {
     "data": {
      "text/plain": [
       "array([    1,    15,     0,    15,    15,    15,    15,    15,    15,\n",
       "          15,    15,    15,    15,    15,    15,    15,    15,    15,\n",
       "          15,    15,    15,    15,    15,    15,    15,    15,    15,\n",
       "          15,    15,    15,    15,    15,    15,    15,    15,    15,\n",
       "          15,    15,    15,    15,    15,    15,    15,    15,    15,\n",
       "          15,    15,    15,    15,    15,    15,    15,    15,    15,\n",
       "          15,    15,    15,    15,    15,    15,    15,    15, 12063,\n",
       "       12063,  2271,  2271,  2271,  2271,  2271,     1,     1,    15,\n",
       "          15,     0,     0,     0,     0,     0,     0,     0,     0,\n",
       "           0,     0, 12073, 12063,  4203,  7323,  2271,     1,    15,\n",
       "          15,    15,     0,     0,     0,     0,     0,     0,     0,\n",
       "           0, 12063, 12063,  4203,  2271,  2271,     1,    15,    15,\n",
       "          15,     0,     0,     0,     0,     0,     0,     0,     0,\n",
       "           0,     0, 12063,  4203,  7323,  2271,     1,    15,    15,\n",
       "          15,     0,     0,     0,     0,     0,     0,     0,     0,\n",
       "       12063,  4203,  2271,  2271,     1,    15,    15,    15,     0,\n",
       "           0,     0,     0,     0,     0,     0,     0,     0, 12063,\n",
       "       12063,  4203,  2271,  2271,     1,    15,    15,    15,     0,\n",
       "           0,     0,     0,     0,     0,     0,     0, 12063,  7414,\n",
       "        2271,  2271,     1,     1,    15,    15,     0,     0,     0,\n",
       "           0,     0,     0,     0,     0,     0,     0, 12063,  4203,\n",
       "        7323,  2271,     1,    15,    15,    15,     0,     0,     0,\n",
       "           0,     0,     0,     0,     0, 12063,  7414,  7323,  2271,\n",
       "           1,     1,    15,    15,     0,     0,     0,     0,     0,\n",
       "           0,     0,     0,     0,     0, 12063,  7414,  4203,  2271,\n",
       "        2271,     1,    15,    15,    15,     0,     0,     0,     0,\n",
       "           0,     0,     0,     0, 12063, 12063,  4203,  2271,  2271,\n",
       "           1,    15,    15,    15,     0,     0,     0,     0,     0,\n",
       "           0,     0,     0,     0, 12063, 14923,  4203,  2271,  2271,\n",
       "           1,    15,    15,    15,     0,     0,     0,     0,     0,\n",
       "           0,     0,     0,     0, 12063,  4203,  7323,  2271,     1,\n",
       "           1,    15,    15,     0,     0,     0,     0,     0,     0,\n",
       "           0,     0, 12063, 12063,  4203,  2271,  2271,     1,    15,\n",
       "          15,    15,     0,     0,     0,     0,     0,     0,     0,\n",
       "           0,     0, 12063, 12063,  4203,  2271,  2271,     1,    15,\n",
       "          15,    15,     0,     0,     0,     0,     0,     0,     0,\n",
       "           0,     0, 12063,  4203,  2271,  2271,     1,    15,    15,\n",
       "          15,     0,     0,     0,     0,     0,     0,     0,     0,\n",
       "       12063, 12063,  4203,  2271,  2271,     1,    15,    15,    15,\n",
       "           0,     0,     0,     0,     0,     0,     0,     0,     0,\n",
       "       12063, 12063,  4203,  2271,  2271,     1,    15,    15,    15,\n",
       "           0,     0,     0,     0,     0,     0,     0,     0, 12063,\n",
       "       12063,  4203,  2271,  2271,     1,    15,    15,    15,     0,\n",
       "           0,     0,     0,     0,     0,     0,     0,     0, 12063,\n",
       "        7414,  7323,  2271,     1,     1,    15,    15,     0,     0,\n",
       "           0,     0,     0,     0,     0,     0,     0, 12063,  7414,\n",
       "        7323,  2271,  2271,     1,    15,    15,     0,     0,     0,\n",
       "           0,     0,     0,     0,     0,     0,     0, 12063,  7414,\n",
       "        7323,  2271,  2271,     1,    15,    15,     0,     0,     0,\n",
       "           0,     0,     0,     0,     0,     0, 12063, 12063,  4203,\n",
       "        2271,  2271,     1,    15,    15,    15,     0,     0,     0,\n",
       "           0,     0,     0,     0,     0,     0, 12063, 14923,  4203,\n",
       "        2271,  2271,     1,    15,    15,    15,     0,     0,     0,\n",
       "           0,     0,     0,     0,     0,     0, 12063,  4203,  7323,\n",
       "        2271,     1,    15,    15,    15,     0,     0,     0,     0,\n",
       "           0,     0,     0,     0, 12063, 12063,  4203,  2271,  2271,\n",
       "           1,    15,    15,    15,     0,     0,     0,     0,     0,\n",
       "           0,     0,     0,     0, 12063, 12063,  4203,  2271,  2271,\n",
       "           1,    15,    15,    15,     0,     0,     0,     0,     0,\n",
       "           0,     0,     0, 12063, 12063,  4203,  2271,  2271,     1,\n",
       "          15,    15,    15,     0,     0,     0,     0,     0,     0,\n",
       "           0,     0,     0, 12063, 12063,  4203,  2271,  2271,     1,\n",
       "          15,    15,    15,     0,     0,     0,     0,     0,     0,\n",
       "           0,     0, 12063,  7414,  4203,  2271,  2271,     1,    15,\n",
       "          15,     0,     0,     0,     0,     0,     0,     0,     0,\n",
       "           0,     0, 12063, 12063,  4203,  7323,  2271,     1,    15,\n",
       "          15,    15,     0,     0,     0,     0,     0,     0,     0,\n",
       "           0, 12063,  4203,  2271,  2271,     1,    15,    15,    15,\n",
       "           0,     0,     0,     0,     0,     0,     0,     0,     0,\n",
       "       12063, 12063,  4203,  2271,  2271,     1,    15,    15,    15,\n",
       "           0,     0,     0,     0,     0,     0,     0,     0, 12063,\n",
       "        7414,  7323,  2271,  2271,     1,    15,    15,     0,     0,\n",
       "           0,     0,     0])"
      ]
     },
     "execution_count": 46,
     "metadata": {},
     "output_type": "execute_result"
    }
   ],
   "source": [
    "predicted_indices[2]"
   ]
  },
  {
   "cell_type": "code",
   "execution_count": 63,
   "metadata": {},
   "outputs": [
    {
     "data": {
      "text/plain": [
       "('9317',\n",
       " array([ 0.01292978, -0.0196126 ,  0.03690822]),\n",
       " array([ 0.01292978, -0.0196126 ,  0.03690822]))"
      ]
     },
     "execution_count": 63,
     "metadata": {},
     "output_type": "execute_result"
    }
   ],
   "source": [
    "vocabulary[12063], embedding_matrix[12063][:3], embedding_matrix[1][:3]"
   ]
  },
  {
   "cell_type": "code",
   "execution_count": 69,
   "metadata": {},
   "outputs": [
    {
     "data": {
      "text/plain": [
       "'[UNK] fee zone zone zone zone zone zone [UNK] 4739N 9317 custom conscientious zone [UNK] 9317 custom zone zone [UNK] 9317 9317 custom zone zone [UNK] 9317 Chamberlain custom zone zone [UNK] 9317 custom conscientious zone [UNK] 9317 custom zone zone [UNK] 9317 IP conscientious zone zone [UNK] 9317 9317 custom zone zone [UNK] 9317 IP conscientious zone zone [UNK] 9317 custom zone zone [UNK] 9317 IP custom zone zone [UNK] 9317 IP conscientious zone [UNK] [UNK] 9317 custom zone zone [UNK] 9317 IP conscientious zone [UNK] [UNK] 9317 IP conscientious zone zone [UNK] 9317 IP conscientious zone zone [UNK] 9317 IP conscientious zone zone [UNK] 9317 IP conscientious zone zone [UNK] 9317 IP conscientious zone zone [UNK] 9317 IP conscientious zone zone [UNK] 9317 9317 custom zone zone [UNK] 9317 IP custom zone zone [UNK] 9317 custom conscientious zone [UNK] 9317 9317 custom zone zone [UNK] 9317 9317 custom zone zone [UNK] 9317 custom zone zone [UNK] 9317 9317 custom zone zone [UNK] 9317 9317 custom zone zone [UNK] 9317 9317 custom zone zone [UNK] 9317 9317 custom zone zone [UNK] 9317 custom conscientious zone [UNK] [UNK] 9317 custom zone zone [UNK] 9317 custom conscientious zone [UNK] 9317 custom zone zone [UNK] [UNK] the [UNK] the [UNK] [UNK] the the [UNK] large and 9317 9317 9317 zone zone zone zone zone [UNK] 9317 9317 zone zone zone [UNK] 9317 IP conscientious zone zone [UNK] 9317 9317 zone zone zone [UNK] 9317 IP conscientious zone zone [UNK] 9317 custom zone zone [UNK] 9317 IP conscientious zone zone [UNK] 9317 custom zone zone [UNK] 9317 Chamberlain custom zone zone [UNK] 9317 IP conscientious zone [UNK] [UNK] 9317 custom conscientious zone [UNK] 9317 IP conscientious zone [UNK] [UNK] 9317 IP conscientious zone pharmacies [UNK] 9317 custom conscientious zone [UNK] 9317 IP custom zone zone [UNK] 9317 custom conscientious analytic [UNK] 9317 custom zone zone [UNK] 9317 IP custom zone zone [UNK] 9317 IP conscientious zone pharmacies [UNK] 9317 IP conscientious zone [UNK] [UNK] 9317 9317 custom zone zone [UNK] 9317 9317 custom zone zone [UNK] 9317 9317 custom zone zone [UNK] 9317 IP custom zone zone [UNK] 9317 custom conscientious zone [UNK] 9317 9317 custom zone zone [UNK] 9317 9317 custom zone zone [UNK] 9317 custom zone zone [UNK] [UNK] 9317 custom conscientious zone [UNK] 9317 IP conscientious zone pharmacies [UNK] 9317 Chamberlain custom zone zone [UNK] 9317 9317 custom zone zone [UNK] 9317 IP custom zone zone [UNK] 9317 custom conscientious zone [UNK] [UNK] [UNK] 9317 9317 zone zone zone zone zone [UNK] [UNK] 4739N 9317 custom conscientious zone [UNK] 9317 9317 custom zone zone [UNK] 9317 custom conscientious zone [UNK] 9317 custom zone zone [UNK] 9317 9317 custom zone zone [UNK] 9317 IP zone zone [UNK] [UNK] 9317 custom conscientious zone [UNK] 9317 IP conscientious zone [UNK] [UNK] 9317 IP custom zone zone [UNK] 9317 9317 custom zone zone [UNK] 9317 Chamberlain custom zone zone [UNK] 9317 custom conscientious zone [UNK] [UNK] 9317 9317 custom zone zone [UNK] 9317 9317 custom zone zone [UNK] 9317 custom zone zone [UNK] 9317 9317 custom zone zone [UNK] 9317 9317 custom zone zone [UNK] 9317 9317 custom zone zone [UNK] 9317 IP conscientious zone [UNK] [UNK] 9317 IP conscientious zone zone [UNK] 9317 IP conscientious zone zone [UNK] 9317 9317 custom zone zone [UNK] 9317 Chamberlain custom zone zone [UNK] 9317 custom conscientious zone [UNK] 9317 9317 custom zone zone [UNK] 9317 9317 custom zone zone [UNK] 9317 9317 custom zone zone [UNK] 9317 9317 custom zone zone [UNK] 9317 IP custom zone zone [UNK] 9317 9317 custom conscientious zone [UNK] 9317 custom zone zone [UNK] 9317 9317 custom zone zone [UNK] 9317 IP conscientious zone zone [UNK] [UNK] 9317 9317 Chamberlain zone zone zone zone [UNK] [UNK] 4739N 9317 custom conscientious zone [UNK] 9317 custom zone zone [UNK] 9317 custom zone zone [UNK] 9317 custom zone zone [UNK] 9317 IP conscientious zone [UNK] [UNK] 9317 custom conscientious zone [UNK] 9317 IP conscientious zone [UNK] [UNK] 9317 IP conscientious zone zone [UNK] 9317 IP conscientious zone [UNK] [UNK] 9317 custom zone zone [UNK] 9317 Chamberlain custom zone zone [UNK] 9317 IP conscientious zone [UNK] [UNK] 9317 custom zone zone [UNK] 9317 IP conscientious zone [UNK] [UNK] 9317 IP conscientious zone [UNK] [UNK] 9317 IP custom zone zone [UNK] 9317 IP custom zone zone [UNK] 9317 custom zone zone [UNK] 9317 9317 custom zone zone [UNK] 9317 9317 custom zone zone [UNK] 9317 custom zone zone [UNK] 9317 9317 custom zone zone [UNK] 9317 9317 custom zone zone [UNK] 9317 Chamberlain custom zone zone [UNK] 9317 custom conscientious zone [UNK] 9317 9317 custom zone zone [UNK] 9317 9317 custom zone zone [UNK] 9317 custom conscientious zone [UNK] 9317 9317 custom zone zone [UNK] 9317 9317 custom zone zone [UNK] 9317 9317 custom zone zone [UNK] 9317 IP conscientious zone [UNK] [UNK] 9317 IP conscientious zone zone [UNK] 9317'"
      ]
     },
     "execution_count": 69,
     "metadata": {},
     "output_type": "execute_result"
    }
   ],
   "source": [
    "indices_to_text(predicted_indices, text_vectorizer)"
   ]
  },
  {
   "cell_type": "code",
   "execution_count": 107,
   "metadata": {},
   "outputs": [],
   "source": [
    "embedding_layer = tf.keras.layers.Embedding(\n",
    "    input_dim=vocab_size,\n",
    "    output_dim=embedding_dim,\n",
    "    weights=[embedding_matrix],\n",
    "    input_length=max_len,\n",
    "    mask_zero=False,\n",
    "    trainable=False\n",
    ")"
   ]
  },
  {
   "cell_type": "code",
   "execution_count": 62,
   "metadata": {},
   "outputs": [
    {
     "data": {
      "text/html": [
       "<pre style=\"white-space:pre;overflow-x:auto;line-height:normal;font-family:Menlo,'DejaVu Sans Mono',consolas,'Courier New',monospace\"><span style=\"font-weight: bold\">Model: \"functional_3\"</span>\n",
       "</pre>\n"
      ],
      "text/plain": [
       "\u001b[1mModel: \"functional_3\"\u001b[0m\n"
      ]
     },
     "metadata": {},
     "output_type": "display_data"
    },
    {
     "data": {
      "text/html": [
       "<pre style=\"white-space:pre;overflow-x:auto;line-height:normal;font-family:Menlo,'DejaVu Sans Mono',consolas,'Courier New',monospace\">┏━━━━━━━━━━━━━━━━━━━━━┳━━━━━━━━━━━━━━━━━━━┳━━━━━━━━━━━━┳━━━━━━━━━━━━━━━━━━━┓\n",
       "┃<span style=\"font-weight: bold\"> Layer (type)        </span>┃<span style=\"font-weight: bold\"> Output Shape      </span>┃<span style=\"font-weight: bold\">    Param # </span>┃<span style=\"font-weight: bold\"> Connected to      </span>┃\n",
       "┡━━━━━━━━━━━━━━━━━━━━━╇━━━━━━━━━━━━━━━━━━━╇━━━━━━━━━━━━╇━━━━━━━━━━━━━━━━━━━┩\n",
       "│ input_layer_7       │ (<span style=\"color: #00d7ff; text-decoration-color: #00d7ff\">None</span>, <span style=\"color: #00af00; text-decoration-color: #00af00\">651</span>)       │          <span style=\"color: #00af00; text-decoration-color: #00af00\">0</span> │ -                 │\n",
       "│ (<span style=\"color: #0087ff; text-decoration-color: #0087ff\">InputLayer</span>)        │                   │            │                   │\n",
       "├─────────────────────┼───────────────────┼────────────┼───────────────────┤\n",
       "│ input_layer_6       │ (<span style=\"color: #00d7ff; text-decoration-color: #00d7ff\">None</span>, <span style=\"color: #00af00; text-decoration-color: #00af00\">651</span>)       │          <span style=\"color: #00af00; text-decoration-color: #00af00\">0</span> │ -                 │\n",
       "│ (<span style=\"color: #0087ff; text-decoration-color: #0087ff\">InputLayer</span>)        │                   │            │                   │\n",
       "├─────────────────────┼───────────────────┼────────────┼───────────────────┤\n",
       "│ embedding_1         │ (<span style=\"color: #00d7ff; text-decoration-color: #00d7ff\">None</span>, <span style=\"color: #00af00; text-decoration-color: #00af00\">651</span>, <span style=\"color: #00af00; text-decoration-color: #00af00\">300</span>)  │  <span style=\"color: #00af00; text-decoration-color: #00af00\">4,500,000</span> │ input_layer_6[<span style=\"color: #00af00; text-decoration-color: #00af00\">0</span>]… │\n",
       "│ (<span style=\"color: #0087ff; text-decoration-color: #0087ff\">Embedding</span>)         │                   │            │ input_layer_7[<span style=\"color: #00af00; text-decoration-color: #00af00\">0</span>]… │\n",
       "├─────────────────────┼───────────────────┼────────────┼───────────────────┤\n",
       "│ lstm_6 (<span style=\"color: #0087ff; text-decoration-color: #0087ff\">LSTM</span>)       │ [(<span style=\"color: #00d7ff; text-decoration-color: #00d7ff\">None</span>, <span style=\"color: #00af00; text-decoration-color: #00af00\">512</span>),     │  <span style=\"color: #00af00; text-decoration-color: #00af00\">1,665,024</span> │ embedding_1[<span style=\"color: #00af00; text-decoration-color: #00af00\">0</span>][<span style=\"color: #00af00; text-decoration-color: #00af00\">0</span>] │\n",
       "│                     │ (<span style=\"color: #00d7ff; text-decoration-color: #00d7ff\">None</span>, <span style=\"color: #00af00; text-decoration-color: #00af00\">512</span>),      │            │                   │\n",
       "│                     │ (<span style=\"color: #00d7ff; text-decoration-color: #00d7ff\">None</span>, <span style=\"color: #00af00; text-decoration-color: #00af00\">512</span>)]      │            │                   │\n",
       "├─────────────────────┼───────────────────┼────────────┼───────────────────┤\n",
       "│ lstm_7 (<span style=\"color: #0087ff; text-decoration-color: #0087ff\">LSTM</span>)       │ [(<span style=\"color: #00d7ff; text-decoration-color: #00d7ff\">None</span>, <span style=\"color: #00af00; text-decoration-color: #00af00\">651</span>,      │  <span style=\"color: #00af00; text-decoration-color: #00af00\">1,665,024</span> │ embedding_1[<span style=\"color: #00af00; text-decoration-color: #00af00\">1</span>][<span style=\"color: #00af00; text-decoration-color: #00af00\">0</span>… │\n",
       "│                     │ <span style=\"color: #00af00; text-decoration-color: #00af00\">512</span>), (<span style=\"color: #00d7ff; text-decoration-color: #00d7ff\">None</span>,      │            │ lstm_6[<span style=\"color: #00af00; text-decoration-color: #00af00\">0</span>][<span style=\"color: #00af00; text-decoration-color: #00af00\">1</span>],     │\n",
       "│                     │ <span style=\"color: #00af00; text-decoration-color: #00af00\">512</span>), (<span style=\"color: #00d7ff; text-decoration-color: #00d7ff\">None</span>,      │            │ lstm_6[<span style=\"color: #00af00; text-decoration-color: #00af00\">0</span>][<span style=\"color: #00af00; text-decoration-color: #00af00\">2</span>]      │\n",
       "│                     │ <span style=\"color: #00af00; text-decoration-color: #00af00\">512</span>)]             │            │                   │\n",
       "├─────────────────────┼───────────────────┼────────────┼───────────────────┤\n",
       "│ dense_3 (<span style=\"color: #0087ff; text-decoration-color: #0087ff\">Dense</span>)     │ (<span style=\"color: #00d7ff; text-decoration-color: #00d7ff\">None</span>, <span style=\"color: #00af00; text-decoration-color: #00af00\">651</span>,       │  <span style=\"color: #00af00; text-decoration-color: #00af00\">7,695,000</span> │ lstm_7[<span style=\"color: #00af00; text-decoration-color: #00af00\">0</span>][<span style=\"color: #00af00; text-decoration-color: #00af00\">0</span>]      │\n",
       "│                     │ <span style=\"color: #00af00; text-decoration-color: #00af00\">15000</span>)            │            │                   │\n",
       "└─────────────────────┴───────────────────┴────────────┴───────────────────┘\n",
       "</pre>\n"
      ],
      "text/plain": [
       "┏━━━━━━━━━━━━━━━━━━━━━┳━━━━━━━━━━━━━━━━━━━┳━━━━━━━━━━━━┳━━━━━━━━━━━━━━━━━━━┓\n",
       "┃\u001b[1m \u001b[0m\u001b[1mLayer (type)       \u001b[0m\u001b[1m \u001b[0m┃\u001b[1m \u001b[0m\u001b[1mOutput Shape     \u001b[0m\u001b[1m \u001b[0m┃\u001b[1m \u001b[0m\u001b[1m   Param #\u001b[0m\u001b[1m \u001b[0m┃\u001b[1m \u001b[0m\u001b[1mConnected to     \u001b[0m\u001b[1m \u001b[0m┃\n",
       "┡━━━━━━━━━━━━━━━━━━━━━╇━━━━━━━━━━━━━━━━━━━╇━━━━━━━━━━━━╇━━━━━━━━━━━━━━━━━━━┩\n",
       "│ input_layer_7       │ (\u001b[38;5;45mNone\u001b[0m, \u001b[38;5;34m651\u001b[0m)       │          \u001b[38;5;34m0\u001b[0m │ -                 │\n",
       "│ (\u001b[38;5;33mInputLayer\u001b[0m)        │                   │            │                   │\n",
       "├─────────────────────┼───────────────────┼────────────┼───────────────────┤\n",
       "│ input_layer_6       │ (\u001b[38;5;45mNone\u001b[0m, \u001b[38;5;34m651\u001b[0m)       │          \u001b[38;5;34m0\u001b[0m │ -                 │\n",
       "│ (\u001b[38;5;33mInputLayer\u001b[0m)        │                   │            │                   │\n",
       "├─────────────────────┼───────────────────┼────────────┼───────────────────┤\n",
       "│ embedding_1         │ (\u001b[38;5;45mNone\u001b[0m, \u001b[38;5;34m651\u001b[0m, \u001b[38;5;34m300\u001b[0m)  │  \u001b[38;5;34m4,500,000\u001b[0m │ input_layer_6[\u001b[38;5;34m0\u001b[0m]… │\n",
       "│ (\u001b[38;5;33mEmbedding\u001b[0m)         │                   │            │ input_layer_7[\u001b[38;5;34m0\u001b[0m]… │\n",
       "├─────────────────────┼───────────────────┼────────────┼───────────────────┤\n",
       "│ lstm_6 (\u001b[38;5;33mLSTM\u001b[0m)       │ [(\u001b[38;5;45mNone\u001b[0m, \u001b[38;5;34m512\u001b[0m),     │  \u001b[38;5;34m1,665,024\u001b[0m │ embedding_1[\u001b[38;5;34m0\u001b[0m][\u001b[38;5;34m0\u001b[0m] │\n",
       "│                     │ (\u001b[38;5;45mNone\u001b[0m, \u001b[38;5;34m512\u001b[0m),      │            │                   │\n",
       "│                     │ (\u001b[38;5;45mNone\u001b[0m, \u001b[38;5;34m512\u001b[0m)]      │            │                   │\n",
       "├─────────────────────┼───────────────────┼────────────┼───────────────────┤\n",
       "│ lstm_7 (\u001b[38;5;33mLSTM\u001b[0m)       │ [(\u001b[38;5;45mNone\u001b[0m, \u001b[38;5;34m651\u001b[0m,      │  \u001b[38;5;34m1,665,024\u001b[0m │ embedding_1[\u001b[38;5;34m1\u001b[0m][\u001b[38;5;34m0\u001b[0m… │\n",
       "│                     │ \u001b[38;5;34m512\u001b[0m), (\u001b[38;5;45mNone\u001b[0m,      │            │ lstm_6[\u001b[38;5;34m0\u001b[0m][\u001b[38;5;34m1\u001b[0m],     │\n",
       "│                     │ \u001b[38;5;34m512\u001b[0m), (\u001b[38;5;45mNone\u001b[0m,      │            │ lstm_6[\u001b[38;5;34m0\u001b[0m][\u001b[38;5;34m2\u001b[0m]      │\n",
       "│                     │ \u001b[38;5;34m512\u001b[0m)]             │            │                   │\n",
       "├─────────────────────┼───────────────────┼────────────┼───────────────────┤\n",
       "│ dense_3 (\u001b[38;5;33mDense\u001b[0m)     │ (\u001b[38;5;45mNone\u001b[0m, \u001b[38;5;34m651\u001b[0m,       │  \u001b[38;5;34m7,695,000\u001b[0m │ lstm_7[\u001b[38;5;34m0\u001b[0m][\u001b[38;5;34m0\u001b[0m]      │\n",
       "│                     │ \u001b[38;5;34m15000\u001b[0m)            │            │                   │\n",
       "└─────────────────────┴───────────────────┴────────────┴───────────────────┘\n"
      ]
     },
     "metadata": {},
     "output_type": "display_data"
    },
    {
     "data": {
      "text/html": [
       "<pre style=\"white-space:pre;overflow-x:auto;line-height:normal;font-family:Menlo,'DejaVu Sans Mono',consolas,'Courier New',monospace\"><span style=\"font-weight: bold\"> Total params: </span><span style=\"color: #00af00; text-decoration-color: #00af00\">15,525,048</span> (59.22 MB)\n",
       "</pre>\n"
      ],
      "text/plain": [
       "\u001b[1m Total params: \u001b[0m\u001b[38;5;34m15,525,048\u001b[0m (59.22 MB)\n"
      ]
     },
     "metadata": {},
     "output_type": "display_data"
    },
    {
     "data": {
      "text/html": [
       "<pre style=\"white-space:pre;overflow-x:auto;line-height:normal;font-family:Menlo,'DejaVu Sans Mono',consolas,'Courier New',monospace\"><span style=\"font-weight: bold\"> Trainable params: </span><span style=\"color: #00af00; text-decoration-color: #00af00\">11,025,048</span> (42.06 MB)\n",
       "</pre>\n"
      ],
      "text/plain": [
       "\u001b[1m Trainable params: \u001b[0m\u001b[38;5;34m11,025,048\u001b[0m (42.06 MB)\n"
      ]
     },
     "metadata": {},
     "output_type": "display_data"
    },
    {
     "data": {
      "text/html": [
       "<pre style=\"white-space:pre;overflow-x:auto;line-height:normal;font-family:Menlo,'DejaVu Sans Mono',consolas,'Courier New',monospace\"><span style=\"font-weight: bold\"> Non-trainable params: </span><span style=\"color: #00af00; text-decoration-color: #00af00\">4,500,000</span> (17.17 MB)\n",
       "</pre>\n"
      ],
      "text/plain": [
       "\u001b[1m Non-trainable params: \u001b[0m\u001b[38;5;34m4,500,000\u001b[0m (17.17 MB)\n"
      ]
     },
     "metadata": {},
     "output_type": "display_data"
    },
    {
     "name": "stdout",
     "output_type": "stream",
     "text": [
      "Epoch 1/5\n",
      "\u001b[1m529/529\u001b[0m \u001b[32m━━━━━━━━━━━━━━━━━━━━\u001b[0m\u001b[37m\u001b[0m \u001b[1m103s\u001b[0m 191ms/step - loss: 0.7405 - masked_accuracy: 0.0937 - val_loss: 0.0382 - val_masked_accuracy: 0.2948\n",
      "Epoch 2/5\n",
      "\u001b[1m529/529\u001b[0m \u001b[32m━━━━━━━━━━━━━━━━━━━━\u001b[0m\u001b[37m\u001b[0m \u001b[1m124s\u001b[0m 235ms/step - loss: 0.0362 - masked_accuracy: 0.3023 - val_loss: 0.0368 - val_masked_accuracy: 0.3120\n",
      "Epoch 3/5\n",
      "\u001b[1m529/529\u001b[0m \u001b[32m━━━━━━━━━━━━━━━━━━━━\u001b[0m\u001b[37m\u001b[0m \u001b[1m100s\u001b[0m 189ms/step - loss: 0.0419 - masked_accuracy: 0.3122 - val_loss: 0.0375 - val_masked_accuracy: 0.3117\n",
      "Epoch 4/5\n",
      "\u001b[1m529/529\u001b[0m \u001b[32m━━━━━━━━━━━━━━━━━━━━\u001b[0m\u001b[37m\u001b[0m \u001b[1m93s\u001b[0m 176ms/step - loss: 0.0350 - masked_accuracy: 0.3096 - val_loss: 0.0360 - val_masked_accuracy: 0.3186\n",
      "Epoch 5/5\n",
      "\u001b[1m529/529\u001b[0m \u001b[32m━━━━━━━━━━━━━━━━━━━━\u001b[0m\u001b[37m\u001b[0m \u001b[1m103s\u001b[0m 194ms/step - loss: 0.0320 - masked_accuracy: 0.3225 - val_loss: 0.0359 - val_masked_accuracy: 0.3199\n"
     ]
    },
    {
     "data": {
      "text/plain": [
       "<keras.src.callbacks.history.History at 0x7fc240507230>"
      ]
     },
     "execution_count": 62,
     "metadata": {},
     "output_type": "execute_result"
    }
   ],
   "source": [
    "# Encoder\n",
    "encoder_input = tf.keras.layers.Input(shape=(max_len,))\n",
    "encoder_embedding = embedding_layer(encoder_input)\n",
    "_, forward_h, forward_c = tf.keras.layers.LSTM(512, return_state=True)(encoder_embedding)\n",
    "encoder_states = [forward_h, forward_c]\n",
    "\n",
    "# Decoder\n",
    "decoder_input = tf.keras.layers.Input(shape=(max_len,))\n",
    "decoder_embedding = embedding_layer(decoder_input)\n",
    "decoder_vectors, _, _ = tf.keras.layers.LSTM(512, return_sequences=True, return_state=True)(decoder_embedding, initial_state=encoder_states)\n",
    "decoder_output = tf.keras.layers.Dense(vocab_size, activation=\"softmax\")(decoder_vectors)\n",
    "\n",
    "model1 = tf.keras.Model([encoder_input, decoder_input], decoder_output)\n",
    "\n",
    "model1.compile(optimizer=\"adam\", loss=\"sparse_categorical_crossentropy\", metrics=[masked_accuracy])\n",
    "\n",
    "model1.summary()\n",
    "\n",
    "model1.fit([encoder_input_train, decoder_input_train], decoder_output_train, validation_data=([encoder_input_val, decoder_input_val], decoder_output_val), epochs=5, batch_size=16)"
   ]
  }
 ],
 "metadata": {
  "kernelspec": {
   "display_name": "base",
   "language": "python",
   "name": "python3"
  },
  "language_info": {
   "codemirror_mode": {
    "name": "ipython",
    "version": 3
   },
   "file_extension": ".py",
   "mimetype": "text/x-python",
   "name": "python",
   "nbconvert_exporter": "python",
   "pygments_lexer": "ipython3",
   "version": "3.12.8"
  }
 },
 "nbformat": 4,
 "nbformat_minor": 2
}
